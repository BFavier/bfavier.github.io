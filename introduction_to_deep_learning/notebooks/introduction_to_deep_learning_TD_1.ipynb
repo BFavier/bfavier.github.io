{
 "cells": [
  {
   "cell_type": "markdown",
   "metadata": {},
   "source": [
    "# Introduction à pytorch"
   ]
  },
  {
   "cell_type": "code",
   "execution_count": 2,
   "metadata": {},
   "outputs": [
    {
     "name": "stderr",
     "output_type": "stream",
     "text": [
      "c:\\Users\\Benoit\\miniconda3\\lib\\site-packages\\tqdm\\auto.py:22: TqdmWarning: IProgress not found. Please update jupyter and ipywidgets. See https://ipywidgets.readthedocs.io/en/stable/user_install.html\n",
      "  from .autonotebook import tqdm as notebook_tqdm\n"
     ]
    }
   ],
   "source": [
    "import torch\n",
    "import torch.nn.functional as F\n",
    "from torch.autograd import grad\n",
    "from copy import deepcopy\n",
    "import matplotlib.pyplot as plt\n",
    "import pandas as pd\n",
    "from typing import Callable\n",
    "from warnings import warn"
   ]
  },
  {
   "cell_type": "markdown",
   "metadata": {},
   "source": [
    "## I) Les tenseurs\n",
    "\n",
    "L'outil central de la librairie et la classe torch.Tensor qui permet de faire des calculs vectorizés et être indéxé à la manière d'une array numpy.\n",
    "C'est un bloc contigue de mémoire qui contient des données typées, et est découpé en plusieurs dimensions. En plus du type de données, on peut définir si le tenseur requiert la propagation du gradient, et l'appareil sur lequel les données sont stockées et où les opérations seront effectuées (\"cpu\" ou \"cuda:i\")."
   ]
  },
  {
   "cell_type": "code",
   "execution_count": 3,
   "metadata": {},
   "outputs": [
    {
     "name": "stdout",
     "output_type": "stream",
     "text": [
      "tensor([[1., 5.],\n",
      "        [3., 2.]])\n"
     ]
    }
   ],
   "source": [
    "t = torch.tensor([[1, 5], [3, 2]], dtype=torch.float32, requires_grad=False, device=\"cpu\")  # la fonction \"torch.tensor\" permet de créer un tenseur de manière analogue à \"np.array\"\n",
    "print(repr(t))"
   ]
  },
  {
   "cell_type": "code",
   "execution_count": 4,
   "metadata": {},
   "outputs": [
    {
     "data": {
      "text/plain": [
       "tensor([[3.0000, 9.7639],\n",
       "        [6.2679, 4.5858]])"
      ]
     },
     "execution_count": 4,
     "metadata": {},
     "output_type": "execute_result"
    }
   ],
   "source": [
    "2*t - t**0.5 + 2  # Les opérations usuelles en numpy sont disponibles"
   ]
  },
  {
   "cell_type": "code",
   "execution_count": 5,
   "metadata": {},
   "outputs": [
    {
     "data": {
      "text/plain": [
       "(torch.Size([2, 2]), torch.float32, False, device(type='cpu'))"
      ]
     },
     "execution_count": 5,
     "metadata": {},
     "output_type": "execute_result"
    }
   ],
   "source": [
    "(t.shape, t.dtype, t.requires_grad, t.device)  # les attributs usuels des array numpy sont nommées de manière identiques"
   ]
  },
  {
   "cell_type": "code",
   "execution_count": 6,
   "metadata": {},
   "outputs": [
    {
     "data": {
      "text/plain": [
       "(tensor(2.),\n",
       " tensor([5., 2.]),\n",
       " tensor([1., 3.]),\n",
       " tensor([1., 5.]),\n",
       " tensor([[1.],\n",
       "         [3.]]))"
      ]
     },
     "execution_count": 6,
     "metadata": {},
     "output_type": "execute_result"
    }
   ],
   "source": [
    "t[1, 1], t[:, 1], t[..., 0], t[0], t[:, :1]  # Les syntaxes d'indentation sont identiques à celles de numpy"
   ]
  },
  {
   "cell_type": "markdown",
   "metadata": {},
   "source": [
    "Toutes les opérations usuelles de la librairie numpy existent dans pytorch (ou presque). Si le tenseur est sur un GPU, le calcul sera effectué de manière parallélisée sur GPU, ce qui peut très largement accélérer la vitesse d'execution pour des tenseurs de grande taille."
   ]
  },
  {
   "cell_type": "code",
   "execution_count": 7,
   "metadata": {},
   "outputs": [
    {
     "data": {
      "text/plain": [
       "(tensor(1.), tensor([3.0000, 2.5000]), tensor(5.), tensor([1.4142, 2.1213]))"
      ]
     },
     "execution_count": 7,
     "metadata": {},
     "output_type": "execute_result"
    }
   ],
   "source": [
    "t.min(), t.mean(dim=1), t.max(), t.std(dim=0)  # les méthodes usuelles des array numpy sont nommées de manière identiques. Le kwargs \"ax\" est renommé \"dim\"."
   ]
  },
  {
   "cell_type": "code",
   "execution_count": 8,
   "metadata": {},
   "outputs": [
    {
     "data": {
      "text/plain": [
       "tensor([[-16., -15.],\n",
       "        [ -9., -19.]])"
      ]
     },
     "execution_count": 8,
     "metadata": {},
     "output_type": "execute_result"
    }
   ],
   "source": [
    "t @ -t  # Les opérateur propres aux array numpy sont aussi implémentés. Ici équivalent à \"torch.matmul(t, -t)\"."
   ]
  },
  {
   "cell_type": "code",
   "execution_count": 9,
   "metadata": {},
   "outputs": [
    {
     "data": {
      "text/plain": [
       "tensor([[2.7183e+00, 1.0262e-10],\n",
       "        [9.1188e-04, 1.3534e-01]])"
      ]
     },
     "execution_count": 9,
     "metadata": {},
     "output_type": "execute_result"
    }
   ],
   "source": [
    "torch.exp(-t**2 + 2)  # les fonctions mathématiques courantes sont disponibles dans le namespace \"torch\""
   ]
  },
  {
   "cell_type": "code",
   "execution_count": 10,
   "metadata": {},
   "outputs": [
    {
     "data": {
      "text/plain": [
       "tensor([[-0.6321, -0.9933],\n",
       "        [-0.9502, -0.8647]])"
      ]
     },
     "execution_count": 10,
     "metadata": {},
     "output_type": "execute_result"
    }
   ],
   "source": [
    "F.elu(-t)  # Les fonctions liées à des opérations propres aux réseaux de neurones (loss, convolutions, activation, ...) se trouvent dans le namespace \"torch.nn.functional\""
   ]
  },
  {
   "cell_type": "code",
   "execution_count": 11,
   "metadata": {},
   "outputs": [
    {
     "data": {
      "text/plain": [
       "tensor([[-0.1538,  0.3846],\n",
       "        [ 0.2308, -0.0769]])"
      ]
     },
     "execution_count": 11,
     "metadata": {},
     "output_type": "execute_result"
    }
   ],
   "source": [
    "torch.linalg.inv(t)  # Les fonctions d'algèbre linéaires de numpy sont implémentées dans le namespace \"torch.linalg\". Ici une opération d'inversion matricielle (dont on peut obtenir le gradient !)"
   ]
  },
  {
   "cell_type": "code",
   "execution_count": 12,
   "metadata": {},
   "outputs": [
    {
     "data": {
      "text/plain": [
       "(tensor([0.6843]), tensor([1]), tensor([0.3192]))"
      ]
     },
     "execution_count": 12,
     "metadata": {},
     "output_type": "execute_result"
    }
   ],
   "source": [
    "torch.rand((1,)), torch.randint(0, 3, (1,)), torch.normal(0., 1., (1,))  # Les fonctions de génération de nombres aléatoires ne sont pas (contrairement à numpy) dans le namespace torch.random !"
   ]
  },
  {
   "cell_type": "markdown",
   "metadata": {},
   "source": [
    "Tout comme pour les arrays numpy, on peut réorganiser la taille des dimensions (sans que la taille totale du tenseur ne change) ou l'ordre des dimensions"
   ]
  },
  {
   "cell_type": "code",
   "execution_count": 13,
   "metadata": {},
   "outputs": [
    {
     "name": "stdout",
     "output_type": "stream",
     "text": [
      "tensor([ 0,  1,  2,  3,  4,  5,  6,  7,  8,  9, 10, 11, 12, 13, 14, 15, 16, 17])\n",
      "tensor([[[ 0,  1,  2],\n",
      "         [ 3,  4,  5]],\n",
      "\n",
      "        [[ 6,  7,  8],\n",
      "         [ 9, 10, 11]],\n",
      "\n",
      "        [[12, 13, 14],\n",
      "         [15, 16, 17]]])\n"
     ]
    }
   ],
   "source": [
    "t = torch.arange(2*3*3, dtype=torch.long)\n",
    "print(repr(t))\n",
    "t = t.reshape(3, 2, 3)\n",
    "print(repr(t))"
   ]
  },
  {
   "cell_type": "code",
   "execution_count": 14,
   "metadata": {},
   "outputs": [
    {
     "data": {
      "text/plain": [
       "tensor([[[ 0,  3],\n",
       "         [ 1,  4],\n",
       "         [ 2,  5]],\n",
       "\n",
       "        [[ 6,  9],\n",
       "         [ 7, 10],\n",
       "         [ 8, 11]],\n",
       "\n",
       "        [[12, 15],\n",
       "         [13, 16],\n",
       "         [14, 17]]])"
      ]
     },
     "execution_count": 14,
     "metadata": {},
     "output_type": "execute_result"
    }
   ],
   "source": [
    "t.transpose(1, 2)  # inverse l'ordre des dimensions 1 et 2"
   ]
  },
  {
   "cell_type": "code",
   "execution_count": 15,
   "metadata": {},
   "outputs": [
    {
     "data": {
      "text/plain": [
       "tensor([[[ 0,  1,  2],\n",
       "         [ 6,  7,  8],\n",
       "         [12, 13, 14]],\n",
       "\n",
       "        [[ 3,  4,  5],\n",
       "         [ 9, 10, 11],\n",
       "         [15, 16, 17]]])"
      ]
     },
     "execution_count": 15,
     "metadata": {},
     "output_type": "execute_result"
    }
   ],
   "source": [
    "t.permute(1, 0, 2)  # permute l'ordre de toutes les dimensions dans l'ordre spécifié"
   ]
  },
  {
   "cell_type": "code",
   "execution_count": 16,
   "metadata": {},
   "outputs": [
    {
     "data": {
      "text/plain": [
       "torch.Size([1, 3, 2, 3])"
      ]
     },
     "execution_count": 16,
     "metadata": {},
     "output_type": "execute_result"
    }
   ],
   "source": [
    "t.unsqueeze(0).shape  # la méthode \"unsqueeze\" permet de créer des dimensions vide"
   ]
  },
  {
   "cell_type": "code",
   "execution_count": 17,
   "metadata": {},
   "outputs": [
    {
     "data": {
      "text/plain": [
       "torch.Size([3, 2, 3])"
      ]
     },
     "execution_count": 17,
     "metadata": {},
     "output_type": "execute_result"
    }
   ],
   "source": [
    "t.unsqueeze(0).squeeze(0).shape  # la méthode \"squeeze\" à l'inverse permet de retirer une dimension vide"
   ]
  },
  {
   "cell_type": "markdown",
   "metadata": {},
   "source": [
    "## II) création du graph de calcul\n",
    "\n",
    "Lorsqu'un tenseur requiert la propagation du gradient, le graphe de calcul est créé dynamiquement, de manière transparente pour l'utilisateur, lorsqu'on effectue des opérations, le résultat renvoyé est un nouveau tenseur lié au précédent par une branche du graphe deu calcul. Pour cette raison, il ne faut jamais modifier manuellement le contenu des tenseurs à travers lesquels on compte propager le gradient."
   ]
  },
  {
   "cell_type": "code",
   "execution_count": 18,
   "metadata": {},
   "outputs": [
    {
     "name": "stdout",
     "output_type": "stream",
     "text": [
      "tensor([0., 1., 2., 3.], requires_grad=True)\n"
     ]
    }
   ],
   "source": [
    "t = torch.arange(4, dtype=torch.float32, requires_grad=True)\n",
    "print(repr(t))"
   ]
  },
  {
   "cell_type": "code",
   "execution_count": 19,
   "metadata": {},
   "outputs": [
    {
     "name": "stdout",
     "output_type": "stream",
     "text": [
      "tensor(14., grad_fn=<SumBackward0>)\n"
     ]
    }
   ],
   "source": [
    "r = torch.sum(t**2)  # notez la présence de la \"grad_fn\" (gradient function) qui a donné lieu au nouveau tenseur.\n",
    "print(repr(r))"
   ]
  },
  {
   "cell_type": "code",
   "execution_count": 20,
   "metadata": {},
   "outputs": [
    {
     "name": "stdout",
     "output_type": "stream",
     "text": [
      "tensor([0., 2., 4., 6.])\n"
     ]
    }
   ],
   "source": [
    "r.backward()  # la méthode \"backward\" permet de propager le gradient dans tous le graph\n",
    "print(repr(t.grad))  # on retrouve la solution analytique de la dérivée de la somme des carrés (y = 2*x), évaluées en [0, 1, 2, 3]."
   ]
  },
  {
   "cell_type": "code",
   "execution_count": 21,
   "metadata": {},
   "outputs": [
    {
     "name": "stdout",
     "output_type": "stream",
     "text": [
      "Trying to backward through the graph a second time (or directly access saved tensors after they have already been freed). Saved intermediate values of the graph are freed when you call .backward() or autograd.grad(). Specify retain_graph=True if you need to backward through the graph a second time or if you need to access saved tensors after calling backward.\n"
     ]
    }
   ],
   "source": [
    "# Une fois le gradient propagé, les résultats intermédiaires du graph de calcul sont supprimés pour libérer de la mémoire.\n",
    "# On ne peut pas appeler backward une deuxième fois\n",
    "try:\n",
    "    r.backward()\n",
    "except Exception as e:\n",
    "    print(str(e))"
   ]
  },
  {
   "cell_type": "code",
   "execution_count": 22,
   "metadata": {},
   "outputs": [
    {
     "name": "stdout",
     "output_type": "stream",
     "text": [
      "tensor([ 0.,  4.,  8., 12.])\n"
     ]
    }
   ],
   "source": [
    "# On remarque alors que pytorch \"accumule\" les gradients au lieux d'écrire la nouvelle valuer par dessus l'ancienne.\n",
    "r = torch.sum(t**2)\n",
    "r.backward()\n",
    "print(repr(t.grad))\n"
   ]
  },
  {
   "cell_type": "code",
   "execution_count": 23,
   "metadata": {},
   "outputs": [
    {
     "name": "stdout",
     "output_type": "stream",
     "text": [
      "False\n"
     ]
    }
   ],
   "source": [
    "# Utiliser un contexte \"torch.no_grad()\" permet de ne pas construire le graph de calcul, et donc d'économiser la mémoire, et d'accélérer le calcul\n",
    "t = torch.arange(4, dtype=torch.float32, requires_grad=True)\n",
    "with torch.no_grad():\n",
    "    r = torch.sum(t**2)\n",
    "print(r.requires_grad)"
   ]
  },
  {
   "cell_type": "markdown",
   "metadata": {},
   "source": [
    "## III) Les Modules pytorch\n",
    "\n",
    "Dans pytorch une brique de modèle (une couche d'un modèle feed forward, ...) comme un modèle entier dérivent de la classe Module.\n",
    "Les classes filles doivent implémenter la fonction \"forward\" qui correspond à la passe avant de la couche/du modèle (aka: l'opération effectuée)"
   ]
  },
  {
   "cell_type": "code",
   "execution_count": 25,
   "metadata": {},
   "outputs": [],
   "source": [
    "lin = torch.nn.Linear(2, 3)  # certaines couches courrament utilisées sont déjà implémentées"
   ]
  },
  {
   "cell_type": "code",
   "execution_count": 26,
   "metadata": {},
   "outputs": [
    {
     "name": "stdout",
     "output_type": "stream",
     "text": [
      "Help on Linear in module torch.nn.modules.linear object:\n",
      "\n",
      "class Linear(torch.nn.modules.module.Module)\n",
      " |  Linear(in_features: int, out_features: int, bias: bool = True, device=None, dtype=None) -> None\n",
      " |  \n",
      " |  Applies a linear transformation to the incoming data: :math:`y = xA^T + b`\n",
      " |  \n",
      " |  This module supports :ref:`TensorFloat32<tf32_on_ampere>`.\n",
      " |  \n",
      " |  Args:\n",
      " |      in_features: size of each input sample\n",
      " |      out_features: size of each output sample\n",
      " |      bias: If set to ``False``, the layer will not learn an additive bias.\n",
      " |          Default: ``True``\n",
      " |  \n",
      " |  Shape:\n",
      " |      - Input: :math:`(*, H_{in})` where :math:`*` means any number of\n",
      " |        dimensions including none and :math:`H_{in} = \\text{in\\_features}`.\n",
      " |      - Output: :math:`(*, H_{out})` where all but the last dimension\n",
      " |        are the same shape as the input and :math:`H_{out} = \\text{out\\_features}`.\n",
      " |  \n",
      " |  Attributes:\n",
      " |      weight: the learnable weights of the module of shape\n",
      " |          :math:`(\\text{out\\_features}, \\text{in\\_features})`. The values are\n",
      " |          initialized from :math:`\\mathcal{U}(-\\sqrt{k}, \\sqrt{k})`, where\n",
      " |          :math:`k = \\frac{1}{\\text{in\\_features}}`\n",
      " |      bias:   the learnable bias of the module of shape :math:`(\\text{out\\_features})`.\n",
      " |              If :attr:`bias` is ``True``, the values are initialized from\n",
      " |              :math:`\\mathcal{U}(-\\sqrt{k}, \\sqrt{k})` where\n",
      " |              :math:`k = \\frac{1}{\\text{in\\_features}}`\n",
      " |  \n",
      " |  Examples::\n",
      " |  \n",
      " |      >>> m = nn.Linear(20, 30)\n",
      " |      >>> input = torch.randn(128, 20)\n",
      " |      >>> output = m(input)\n",
      " |      >>> print(output.size())\n",
      " |      torch.Size([128, 30])\n",
      " |  \n",
      " |  Method resolution order:\n",
      " |      Linear\n",
      " |      torch.nn.modules.module.Module\n",
      " |      builtins.object\n",
      " |  \n",
      " |  Methods defined here:\n",
      " |  \n",
      " |  __init__(self, in_features: int, out_features: int, bias: bool = True, device=None, dtype=None) -> None\n",
      " |      Initializes internal Module state, shared by both nn.Module and ScriptModule.\n",
      " |  \n",
      " |  extra_repr(self) -> str\n",
      " |      Set the extra representation of the module\n",
      " |      \n",
      " |      To print customized extra information, you should re-implement\n",
      " |      this method in your own modules. Both single-line and multi-line\n",
      " |      strings are acceptable.\n",
      " |  \n",
      " |  forward(self, input: torch.Tensor) -> torch.Tensor\n",
      " |      Defines the computation performed at every call.\n",
      " |      \n",
      " |      Should be overridden by all subclasses.\n",
      " |      \n",
      " |      .. note::\n",
      " |          Although the recipe for forward pass needs to be defined within\n",
      " |          this function, one should call the :class:`Module` instance afterwards\n",
      " |          instead of this since the former takes care of running the\n",
      " |          registered hooks while the latter silently ignores them.\n",
      " |  \n",
      " |  reset_parameters(self) -> None\n",
      " |  \n",
      " |  ----------------------------------------------------------------------\n",
      " |  Data and other attributes defined here:\n",
      " |  \n",
      " |  __annotations__ = {'in_features': <class 'int'>, 'out_features': <clas...\n",
      " |  \n",
      " |  __constants__ = ['in_features', 'out_features']\n",
      " |  \n",
      " |  ----------------------------------------------------------------------\n",
      " |  Methods inherited from torch.nn.modules.module.Module:\n",
      " |  \n",
      " |  __call__ = _call_impl(self, *input, **kwargs)\n",
      " |  \n",
      " |  __delattr__(self, name)\n",
      " |      Implement delattr(self, name).\n",
      " |  \n",
      " |  __dir__(self)\n",
      " |      Default dir() implementation.\n",
      " |  \n",
      " |  __getattr__(self, name: str) -> Union[torch.Tensor, ForwardRef('Module')]\n",
      " |  \n",
      " |  __repr__(self)\n",
      " |      Return repr(self).\n",
      " |  \n",
      " |  __setattr__(self, name: str, value: Union[torch.Tensor, ForwardRef('Module')]) -> None\n",
      " |      Implement setattr(self, name, value).\n",
      " |  \n",
      " |  __setstate__(self, state)\n",
      " |  \n",
      " |  add_module(self, name: str, module: Optional[ForwardRef('Module')]) -> None\n",
      " |      Adds a child module to the current module.\n",
      " |      \n",
      " |      The module can be accessed as an attribute using the given name.\n",
      " |      \n",
      " |      Args:\n",
      " |          name (string): name of the child module. The child module can be\n",
      " |              accessed from this module using the given name\n",
      " |          module (Module): child module to be added to the module.\n",
      " |  \n",
      " |  apply(self: ~T, fn: Callable[[ForwardRef('Module')], NoneType]) -> ~T\n",
      " |      Applies ``fn`` recursively to every submodule (as returned by ``.children()``)\n",
      " |      as well as self. Typical use includes initializing the parameters of a model\n",
      " |      (see also :ref:`nn-init-doc`).\n",
      " |      \n",
      " |      Args:\n",
      " |          fn (:class:`Module` -> None): function to be applied to each submodule\n",
      " |      \n",
      " |      Returns:\n",
      " |          Module: self\n",
      " |      \n",
      " |      Example::\n",
      " |      \n",
      " |          >>> @torch.no_grad()\n",
      " |          >>> def init_weights(m):\n",
      " |          >>>     print(m)\n",
      " |          >>>     if type(m) == nn.Linear:\n",
      " |          >>>         m.weight.fill_(1.0)\n",
      " |          >>>         print(m.weight)\n",
      " |          >>> net = nn.Sequential(nn.Linear(2, 2), nn.Linear(2, 2))\n",
      " |          >>> net.apply(init_weights)\n",
      " |          Linear(in_features=2, out_features=2, bias=True)\n",
      " |          Parameter containing:\n",
      " |          tensor([[ 1.,  1.],\n",
      " |                  [ 1.,  1.]])\n",
      " |          Linear(in_features=2, out_features=2, bias=True)\n",
      " |          Parameter containing:\n",
      " |          tensor([[ 1.,  1.],\n",
      " |                  [ 1.,  1.]])\n",
      " |          Sequential(\n",
      " |            (0): Linear(in_features=2, out_features=2, bias=True)\n",
      " |            (1): Linear(in_features=2, out_features=2, bias=True)\n",
      " |          )\n",
      " |          Sequential(\n",
      " |            (0): Linear(in_features=2, out_features=2, bias=True)\n",
      " |            (1): Linear(in_features=2, out_features=2, bias=True)\n",
      " |          )\n",
      " |  \n",
      " |  bfloat16(self: ~T) -> ~T\n",
      " |      Casts all floating point parameters and buffers to ``bfloat16`` datatype.\n",
      " |      \n",
      " |      .. note::\n",
      " |          This method modifies the module in-place.\n",
      " |      \n",
      " |      Returns:\n",
      " |          Module: self\n",
      " |  \n",
      " |  buffers(self, recurse: bool = True) -> Iterator[torch.Tensor]\n",
      " |      Returns an iterator over module buffers.\n",
      " |      \n",
      " |      Args:\n",
      " |          recurse (bool): if True, then yields buffers of this module\n",
      " |              and all submodules. Otherwise, yields only buffers that\n",
      " |              are direct members of this module.\n",
      " |      \n",
      " |      Yields:\n",
      " |          torch.Tensor: module buffer\n",
      " |      \n",
      " |      Example::\n",
      " |      \n",
      " |          >>> for buf in model.buffers():\n",
      " |          >>>     print(type(buf), buf.size())\n",
      " |          <class 'torch.Tensor'> (20L,)\n",
      " |          <class 'torch.Tensor'> (20L, 1L, 5L, 5L)\n",
      " |  \n",
      " |  children(self) -> Iterator[ForwardRef('Module')]\n",
      " |      Returns an iterator over immediate children modules.\n",
      " |      \n",
      " |      Yields:\n",
      " |          Module: a child module\n",
      " |  \n",
      " |  cpu(self: ~T) -> ~T\n",
      " |      Moves all model parameters and buffers to the CPU.\n",
      " |      \n",
      " |      .. note::\n",
      " |          This method modifies the module in-place.\n",
      " |      \n",
      " |      Returns:\n",
      " |          Module: self\n",
      " |  \n",
      " |  cuda(self: ~T, device: Union[int, torch.device, NoneType] = None) -> ~T\n",
      " |      Moves all model parameters and buffers to the GPU.\n",
      " |      \n",
      " |      This also makes associated parameters and buffers different objects. So\n",
      " |      it should be called before constructing optimizer if the module will\n",
      " |      live on GPU while being optimized.\n",
      " |      \n",
      " |      .. note::\n",
      " |          This method modifies the module in-place.\n",
      " |      \n",
      " |      Args:\n",
      " |          device (int, optional): if specified, all parameters will be\n",
      " |              copied to that device\n",
      " |      \n",
      " |      Returns:\n",
      " |          Module: self\n",
      " |  \n",
      " |  double(self: ~T) -> ~T\n",
      " |      Casts all floating point parameters and buffers to ``double`` datatype.\n",
      " |      \n",
      " |      .. note::\n",
      " |          This method modifies the module in-place.\n",
      " |      \n",
      " |      Returns:\n",
      " |          Module: self\n",
      " |  \n",
      " |  eval(self: ~T) -> ~T\n",
      " |      Sets the module in evaluation mode.\n",
      " |      \n",
      " |      This has any effect only on certain modules. See documentations of\n",
      " |      particular modules for details of their behaviors in training/evaluation\n",
      " |      mode, if they are affected, e.g. :class:`Dropout`, :class:`BatchNorm`,\n",
      " |      etc.\n",
      " |      \n",
      " |      This is equivalent with :meth:`self.train(False) <torch.nn.Module.train>`.\n",
      " |      \n",
      " |      See :ref:`locally-disable-grad-doc` for a comparison between\n",
      " |      `.eval()` and several similar mechanisms that may be confused with it.\n",
      " |      \n",
      " |      Returns:\n",
      " |          Module: self\n",
      " |  \n",
      " |  float(self: ~T) -> ~T\n",
      " |      Casts all floating point parameters and buffers to ``float`` datatype.\n",
      " |      \n",
      " |      .. note::\n",
      " |          This method modifies the module in-place.\n",
      " |      \n",
      " |      Returns:\n",
      " |          Module: self\n",
      " |  \n",
      " |  get_buffer(self, target: str) -> 'Tensor'\n",
      " |      Returns the buffer given by ``target`` if it exists,\n",
      " |      otherwise throws an error.\n",
      " |      \n",
      " |      See the docstring for ``get_submodule`` for a more detailed\n",
      " |      explanation of this method's functionality as well as how to\n",
      " |      correctly specify ``target``.\n",
      " |      \n",
      " |      Args:\n",
      " |          target: The fully-qualified string name of the buffer\n",
      " |              to look for. (See ``get_submodule`` for how to specify a\n",
      " |              fully-qualified string.)\n",
      " |      \n",
      " |      Returns:\n",
      " |          torch.Tensor: The buffer referenced by ``target``\n",
      " |      \n",
      " |      Raises:\n",
      " |          AttributeError: If the target string references an invalid\n",
      " |              path or resolves to something that is not a\n",
      " |              buffer\n",
      " |  \n",
      " |  get_extra_state(self) -> Any\n",
      " |      Returns any extra state to include in the module's state_dict.\n",
      " |      Implement this and a corresponding :func:`set_extra_state` for your module\n",
      " |      if you need to store extra state. This function is called when building the\n",
      " |      module's `state_dict()`.\n",
      " |      \n",
      " |      Note that extra state should be pickleable to ensure working serialization\n",
      " |      of the state_dict. We only provide provide backwards compatibility guarantees\n",
      " |      for serializing Tensors; other objects may break backwards compatibility if\n",
      " |      their serialized pickled form changes.\n",
      " |      \n",
      " |      Returns:\n",
      " |          object: Any extra state to store in the module's state_dict\n",
      " |  \n",
      " |  get_parameter(self, target: str) -> 'Parameter'\n",
      " |      Returns the parameter given by ``target`` if it exists,\n",
      " |      otherwise throws an error.\n",
      " |      \n",
      " |      See the docstring for ``get_submodule`` for a more detailed\n",
      " |      explanation of this method's functionality as well as how to\n",
      " |      correctly specify ``target``.\n",
      " |      \n",
      " |      Args:\n",
      " |          target: The fully-qualified string name of the Parameter\n",
      " |              to look for. (See ``get_submodule`` for how to specify a\n",
      " |              fully-qualified string.)\n",
      " |      \n",
      " |      Returns:\n",
      " |          torch.nn.Parameter: The Parameter referenced by ``target``\n",
      " |      \n",
      " |      Raises:\n",
      " |          AttributeError: If the target string references an invalid\n",
      " |              path or resolves to something that is not an\n",
      " |              ``nn.Parameter``\n",
      " |  \n",
      " |  get_submodule(self, target: str) -> 'Module'\n",
      " |      Returns the submodule given by ``target`` if it exists,\n",
      " |      otherwise throws an error.\n",
      " |      \n",
      " |      For example, let's say you have an ``nn.Module`` ``A`` that\n",
      " |      looks like this:\n",
      " |      \n",
      " |      .. code-block::text\n",
      " |      \n",
      " |          A(\n",
      " |              (net_b): Module(\n",
      " |                  (net_c): Module(\n",
      " |                      (conv): Conv2d(16, 33, kernel_size=(3, 3), stride=(2, 2))\n",
      " |                  )\n",
      " |                  (linear): Linear(in_features=100, out_features=200, bias=True)\n",
      " |              )\n",
      " |          )\n",
      " |      \n",
      " |      (The diagram shows an ``nn.Module`` ``A``. ``A`` has a nested\n",
      " |      submodule ``net_b``, which itself has two submodules ``net_c``\n",
      " |      and ``linear``. ``net_c`` then has a submodule ``conv``.)\n",
      " |      \n",
      " |      To check whether or not we have the ``linear`` submodule, we\n",
      " |      would call ``get_submodule(\"net_b.linear\")``. To check whether\n",
      " |      we have the ``conv`` submodule, we would call\n",
      " |      ``get_submodule(\"net_b.net_c.conv\")``.\n",
      " |      \n",
      " |      The runtime of ``get_submodule`` is bounded by the degree\n",
      " |      of module nesting in ``target``. A query against\n",
      " |      ``named_modules`` achieves the same result, but it is O(N) in\n",
      " |      the number of transitive modules. So, for a simple check to see\n",
      " |      if some submodule exists, ``get_submodule`` should always be\n",
      " |      used.\n",
      " |      \n",
      " |      Args:\n",
      " |          target: The fully-qualified string name of the submodule\n",
      " |              to look for. (See above example for how to specify a\n",
      " |              fully-qualified string.)\n",
      " |      \n",
      " |      Returns:\n",
      " |          torch.nn.Module: The submodule referenced by ``target``\n",
      " |      \n",
      " |      Raises:\n",
      " |          AttributeError: If the target string references an invalid\n",
      " |              path or resolves to something that is not an\n",
      " |              ``nn.Module``\n",
      " |  \n",
      " |  half(self: ~T) -> ~T\n",
      " |      Casts all floating point parameters and buffers to ``half`` datatype.\n",
      " |      \n",
      " |      .. note::\n",
      " |          This method modifies the module in-place.\n",
      " |      \n",
      " |      Returns:\n",
      " |          Module: self\n",
      " |  \n",
      " |  load_state_dict(self, state_dict: 'OrderedDict[str, Tensor]', strict: bool = True)\n",
      " |      Copies parameters and buffers from :attr:`state_dict` into\n",
      " |      this module and its descendants. If :attr:`strict` is ``True``, then\n",
      " |      the keys of :attr:`state_dict` must exactly match the keys returned\n",
      " |      by this module's :meth:`~torch.nn.Module.state_dict` function.\n",
      " |      \n",
      " |      Args:\n",
      " |          state_dict (dict): a dict containing parameters and\n",
      " |              persistent buffers.\n",
      " |          strict (bool, optional): whether to strictly enforce that the keys\n",
      " |              in :attr:`state_dict` match the keys returned by this module's\n",
      " |              :meth:`~torch.nn.Module.state_dict` function. Default: ``True``\n",
      " |      \n",
      " |      Returns:\n",
      " |          ``NamedTuple`` with ``missing_keys`` and ``unexpected_keys`` fields:\n",
      " |              * **missing_keys** is a list of str containing the missing keys\n",
      " |              * **unexpected_keys** is a list of str containing the unexpected keys\n",
      " |      \n",
      " |      Note:\n",
      " |          If a parameter or buffer is registered as ``None`` and its corresponding key\n",
      " |          exists in :attr:`state_dict`, :meth:`load_state_dict` will raise a\n",
      " |          ``RuntimeError``.\n",
      " |  \n",
      " |  modules(self) -> Iterator[ForwardRef('Module')]\n",
      " |      Returns an iterator over all modules in the network.\n",
      " |      \n",
      " |      Yields:\n",
      " |          Module: a module in the network\n",
      " |      \n",
      " |      Note:\n",
      " |          Duplicate modules are returned only once. In the following\n",
      " |          example, ``l`` will be returned only once.\n",
      " |      \n",
      " |      Example::\n",
      " |      \n",
      " |          >>> l = nn.Linear(2, 2)\n",
      " |          >>> net = nn.Sequential(l, l)\n",
      " |          >>> for idx, m in enumerate(net.modules()):\n",
      " |                  print(idx, '->', m)\n",
      " |      \n",
      " |          0 -> Sequential(\n",
      " |            (0): Linear(in_features=2, out_features=2, bias=True)\n",
      " |            (1): Linear(in_features=2, out_features=2, bias=True)\n",
      " |          )\n",
      " |          1 -> Linear(in_features=2, out_features=2, bias=True)\n",
      " |  \n",
      " |  named_buffers(self, prefix: str = '', recurse: bool = True) -> Iterator[Tuple[str, torch.Tensor]]\n",
      " |      Returns an iterator over module buffers, yielding both the\n",
      " |      name of the buffer as well as the buffer itself.\n",
      " |      \n",
      " |      Args:\n",
      " |          prefix (str): prefix to prepend to all buffer names.\n",
      " |          recurse (bool): if True, then yields buffers of this module\n",
      " |              and all submodules. Otherwise, yields only buffers that\n",
      " |              are direct members of this module.\n",
      " |      \n",
      " |      Yields:\n",
      " |          (string, torch.Tensor): Tuple containing the name and buffer\n",
      " |      \n",
      " |      Example::\n",
      " |      \n",
      " |          >>> for name, buf in self.named_buffers():\n",
      " |          >>>    if name in ['running_var']:\n",
      " |          >>>        print(buf.size())\n",
      " |  \n",
      " |  named_children(self) -> Iterator[Tuple[str, ForwardRef('Module')]]\n",
      " |      Returns an iterator over immediate children modules, yielding both\n",
      " |      the name of the module as well as the module itself.\n",
      " |      \n",
      " |      Yields:\n",
      " |          (string, Module): Tuple containing a name and child module\n",
      " |      \n",
      " |      Example::\n",
      " |      \n",
      " |          >>> for name, module in model.named_children():\n",
      " |          >>>     if name in ['conv4', 'conv5']:\n",
      " |          >>>         print(module)\n",
      " |  \n",
      " |  named_modules(self, memo: Optional[Set[ForwardRef('Module')]] = None, prefix: str = '', remove_duplicate: bool = True)\n",
      " |      Returns an iterator over all modules in the network, yielding\n",
      " |      both the name of the module as well as the module itself.\n",
      " |      \n",
      " |      Args:\n",
      " |          memo: a memo to store the set of modules already added to the result\n",
      " |          prefix: a prefix that will be added to the name of the module\n",
      " |          remove_duplicate: whether to remove the duplicated module instances in the result\n",
      " |              or not\n",
      " |      \n",
      " |      Yields:\n",
      " |          (string, Module): Tuple of name and module\n",
      " |      \n",
      " |      Note:\n",
      " |          Duplicate modules are returned only once. In the following\n",
      " |          example, ``l`` will be returned only once.\n",
      " |      \n",
      " |      Example::\n",
      " |      \n",
      " |          >>> l = nn.Linear(2, 2)\n",
      " |          >>> net = nn.Sequential(l, l)\n",
      " |          >>> for idx, m in enumerate(net.named_modules()):\n",
      " |                  print(idx, '->', m)\n",
      " |      \n",
      " |          0 -> ('', Sequential(\n",
      " |            (0): Linear(in_features=2, out_features=2, bias=True)\n",
      " |            (1): Linear(in_features=2, out_features=2, bias=True)\n",
      " |          ))\n",
      " |          1 -> ('0', Linear(in_features=2, out_features=2, bias=True))\n",
      " |  \n",
      " |  named_parameters(self, prefix: str = '', recurse: bool = True) -> Iterator[Tuple[str, torch.nn.parameter.Parameter]]\n",
      " |      Returns an iterator over module parameters, yielding both the\n",
      " |      name of the parameter as well as the parameter itself.\n",
      " |      \n",
      " |      Args:\n",
      " |          prefix (str): prefix to prepend to all parameter names.\n",
      " |          recurse (bool): if True, then yields parameters of this module\n",
      " |              and all submodules. Otherwise, yields only parameters that\n",
      " |              are direct members of this module.\n",
      " |      \n",
      " |      Yields:\n",
      " |          (string, Parameter): Tuple containing the name and parameter\n",
      " |      \n",
      " |      Example::\n",
      " |      \n",
      " |          >>> for name, param in self.named_parameters():\n",
      " |          >>>    if name in ['bias']:\n",
      " |          >>>        print(param.size())\n",
      " |  \n",
      " |  parameters(self, recurse: bool = True) -> Iterator[torch.nn.parameter.Parameter]\n",
      " |      Returns an iterator over module parameters.\n",
      " |      \n",
      " |      This is typically passed to an optimizer.\n",
      " |      \n",
      " |      Args:\n",
      " |          recurse (bool): if True, then yields parameters of this module\n",
      " |              and all submodules. Otherwise, yields only parameters that\n",
      " |              are direct members of this module.\n",
      " |      \n",
      " |      Yields:\n",
      " |          Parameter: module parameter\n",
      " |      \n",
      " |      Example::\n",
      " |      \n",
      " |          >>> for param in model.parameters():\n",
      " |          >>>     print(type(param), param.size())\n",
      " |          <class 'torch.Tensor'> (20L,)\n",
      " |          <class 'torch.Tensor'> (20L, 1L, 5L, 5L)\n",
      " |  \n",
      " |  register_backward_hook(self, hook: Callable[[ForwardRef('Module'), Union[Tuple[torch.Tensor, ...], torch.Tensor], Union[Tuple[torch.Tensor, ...], torch.Tensor]], Optional[torch.Tensor]]) -> torch.utils.hooks.RemovableHandle\n",
      " |      Registers a backward hook on the module.\n",
      " |      \n",
      " |      This function is deprecated in favor of :meth:`~torch.nn.Module.register_full_backward_hook` and\n",
      " |      the behavior of this function will change in future versions.\n",
      " |      \n",
      " |      Returns:\n",
      " |          :class:`torch.utils.hooks.RemovableHandle`:\n",
      " |              a handle that can be used to remove the added hook by calling\n",
      " |              ``handle.remove()``\n",
      " |  \n",
      " |  register_buffer(self, name: str, tensor: Optional[torch.Tensor], persistent: bool = True) -> None\n",
      " |      Adds a buffer to the module.\n",
      " |      \n",
      " |      This is typically used to register a buffer that should not to be\n",
      " |      considered a model parameter. For example, BatchNorm's ``running_mean``\n",
      " |      is not a parameter, but is part of the module's state. Buffers, by\n",
      " |      default, are persistent and will be saved alongside parameters. This\n",
      " |      behavior can be changed by setting :attr:`persistent` to ``False``. The\n",
      " |      only difference between a persistent buffer and a non-persistent buffer\n",
      " |      is that the latter will not be a part of this module's\n",
      " |      :attr:`state_dict`.\n",
      " |      \n",
      " |      Buffers can be accessed as attributes using given names.\n",
      " |      \n",
      " |      Args:\n",
      " |          name (string): name of the buffer. The buffer can be accessed\n",
      " |              from this module using the given name\n",
      " |          tensor (Tensor or None): buffer to be registered. If ``None``, then operations\n",
      " |              that run on buffers, such as :attr:`cuda`, are ignored. If ``None``,\n",
      " |              the buffer is **not** included in the module's :attr:`state_dict`.\n",
      " |          persistent (bool): whether the buffer is part of this module's\n",
      " |              :attr:`state_dict`.\n",
      " |      \n",
      " |      Example::\n",
      " |      \n",
      " |          >>> self.register_buffer('running_mean', torch.zeros(num_features))\n",
      " |  \n",
      " |  register_forward_hook(self, hook: Callable[..., NoneType]) -> torch.utils.hooks.RemovableHandle\n",
      " |      Registers a forward hook on the module.\n",
      " |      \n",
      " |      The hook will be called every time after :func:`forward` has computed an output.\n",
      " |      It should have the following signature::\n",
      " |      \n",
      " |          hook(module, input, output) -> None or modified output\n",
      " |      \n",
      " |      The input contains only the positional arguments given to the module.\n",
      " |      Keyword arguments won't be passed to the hooks and only to the ``forward``.\n",
      " |      The hook can modify the output. It can modify the input inplace but\n",
      " |      it will not have effect on forward since this is called after\n",
      " |      :func:`forward` is called.\n",
      " |      \n",
      " |      Returns:\n",
      " |          :class:`torch.utils.hooks.RemovableHandle`:\n",
      " |              a handle that can be used to remove the added hook by calling\n",
      " |              ``handle.remove()``\n",
      " |  \n",
      " |  register_forward_pre_hook(self, hook: Callable[..., NoneType]) -> torch.utils.hooks.RemovableHandle\n",
      " |      Registers a forward pre-hook on the module.\n",
      " |      \n",
      " |      The hook will be called every time before :func:`forward` is invoked.\n",
      " |      It should have the following signature::\n",
      " |      \n",
      " |          hook(module, input) -> None or modified input\n",
      " |      \n",
      " |      The input contains only the positional arguments given to the module.\n",
      " |      Keyword arguments won't be passed to the hooks and only to the ``forward``.\n",
      " |      The hook can modify the input. User can either return a tuple or a\n",
      " |      single modified value in the hook. We will wrap the value into a tuple\n",
      " |      if a single value is returned(unless that value is already a tuple).\n",
      " |      \n",
      " |      Returns:\n",
      " |          :class:`torch.utils.hooks.RemovableHandle`:\n",
      " |              a handle that can be used to remove the added hook by calling\n",
      " |              ``handle.remove()``\n",
      " |  \n",
      " |  register_full_backward_hook(self, hook: Callable[[ForwardRef('Module'), Union[Tuple[torch.Tensor, ...], torch.Tensor], Union[Tuple[torch.Tensor, ...], torch.Tensor]], Optional[torch.Tensor]]) -> torch.utils.hooks.RemovableHandle\n",
      " |      Registers a backward hook on the module.\n",
      " |      \n",
      " |      The hook will be called every time the gradients with respect to module\n",
      " |      inputs are computed. The hook should have the following signature::\n",
      " |      \n",
      " |          hook(module, grad_input, grad_output) -> tuple(Tensor) or None\n",
      " |      \n",
      " |      The :attr:`grad_input` and :attr:`grad_output` are tuples that contain the gradients\n",
      " |      with respect to the inputs and outputs respectively. The hook should\n",
      " |      not modify its arguments, but it can optionally return a new gradient with\n",
      " |      respect to the input that will be used in place of :attr:`grad_input` in\n",
      " |      subsequent computations. :attr:`grad_input` will only correspond to the inputs given\n",
      " |      as positional arguments and all kwarg arguments are ignored. Entries\n",
      " |      in :attr:`grad_input` and :attr:`grad_output` will be ``None`` for all non-Tensor\n",
      " |      arguments.\n",
      " |      \n",
      " |      For technical reasons, when this hook is applied to a Module, its forward function will\n",
      " |      receive a view of each Tensor passed to the Module. Similarly the caller will receive a view\n",
      " |      of each Tensor returned by the Module's forward function.\n",
      " |      \n",
      " |      .. warning ::\n",
      " |          Modifying inputs or outputs inplace is not allowed when using backward hooks and\n",
      " |          will raise an error.\n",
      " |      \n",
      " |      Returns:\n",
      " |          :class:`torch.utils.hooks.RemovableHandle`:\n",
      " |              a handle that can be used to remove the added hook by calling\n",
      " |              ``handle.remove()``\n",
      " |  \n",
      " |  register_module(self, name: str, module: Optional[ForwardRef('Module')]) -> None\n",
      " |      Alias for :func:`add_module`.\n",
      " |  \n",
      " |  register_parameter(self, name: str, param: Optional[torch.nn.parameter.Parameter]) -> None\n",
      " |      Adds a parameter to the module.\n",
      " |      \n",
      " |      The parameter can be accessed as an attribute using given name.\n",
      " |      \n",
      " |      Args:\n",
      " |          name (string): name of the parameter. The parameter can be accessed\n",
      " |              from this module using the given name\n",
      " |          param (Parameter or None): parameter to be added to the module. If\n",
      " |              ``None``, then operations that run on parameters, such as :attr:`cuda`,\n",
      " |              are ignored. If ``None``, the parameter is **not** included in the\n",
      " |              module's :attr:`state_dict`.\n",
      " |  \n",
      " |  requires_grad_(self: ~T, requires_grad: bool = True) -> ~T\n",
      " |      Change if autograd should record operations on parameters in this\n",
      " |      module.\n",
      " |      \n",
      " |      This method sets the parameters' :attr:`requires_grad` attributes\n",
      " |      in-place.\n",
      " |      \n",
      " |      This method is helpful for freezing part of the module for finetuning\n",
      " |      or training parts of a model individually (e.g., GAN training).\n",
      " |      \n",
      " |      See :ref:`locally-disable-grad-doc` for a comparison between\n",
      " |      `.requires_grad_()` and several similar mechanisms that may be confused with it.\n",
      " |      \n",
      " |      Args:\n",
      " |          requires_grad (bool): whether autograd should record operations on\n",
      " |                                parameters in this module. Default: ``True``.\n",
      " |      \n",
      " |      Returns:\n",
      " |          Module: self\n",
      " |  \n",
      " |  set_extra_state(self, state: Any)\n",
      " |      This function is called from :func:`load_state_dict` to handle any extra state\n",
      " |      found within the `state_dict`. Implement this function and a corresponding\n",
      " |      :func:`get_extra_state` for your module if you need to store extra state within its\n",
      " |      `state_dict`.\n",
      " |      \n",
      " |      Args:\n",
      " |          state (dict): Extra state from the `state_dict`\n",
      " |  \n",
      " |  share_memory(self: ~T) -> ~T\n",
      " |      See :meth:`torch.Tensor.share_memory_`\n",
      " |  \n",
      " |  state_dict(self, destination=None, prefix='', keep_vars=False)\n",
      " |      Returns a dictionary containing a whole state of the module.\n",
      " |      \n",
      " |      Both parameters and persistent buffers (e.g. running averages) are\n",
      " |      included. Keys are corresponding parameter and buffer names.\n",
      " |      Parameters and buffers set to ``None`` are not included.\n",
      " |      \n",
      " |      Returns:\n",
      " |          dict:\n",
      " |              a dictionary containing a whole state of the module\n",
      " |      \n",
      " |      Example::\n",
      " |      \n",
      " |          >>> module.state_dict().keys()\n",
      " |          ['bias', 'weight']\n",
      " |  \n",
      " |  to(self, *args, **kwargs)\n",
      " |      Moves and/or casts the parameters and buffers.\n",
      " |      \n",
      " |      This can be called as\n",
      " |      \n",
      " |      .. function:: to(device=None, dtype=None, non_blocking=False)\n",
      " |         :noindex:\n",
      " |      \n",
      " |      .. function:: to(dtype, non_blocking=False)\n",
      " |         :noindex:\n",
      " |      \n",
      " |      .. function:: to(tensor, non_blocking=False)\n",
      " |         :noindex:\n",
      " |      \n",
      " |      .. function:: to(memory_format=torch.channels_last)\n",
      " |         :noindex:\n",
      " |      \n",
      " |      Its signature is similar to :meth:`torch.Tensor.to`, but only accepts\n",
      " |      floating point or complex :attr:`dtype`\\ s. In addition, this method will\n",
      " |      only cast the floating point or complex parameters and buffers to :attr:`dtype`\n",
      " |      (if given). The integral parameters and buffers will be moved\n",
      " |      :attr:`device`, if that is given, but with dtypes unchanged. When\n",
      " |      :attr:`non_blocking` is set, it tries to convert/move asynchronously\n",
      " |      with respect to the host if possible, e.g., moving CPU Tensors with\n",
      " |      pinned memory to CUDA devices.\n",
      " |      \n",
      " |      See below for examples.\n",
      " |      \n",
      " |      .. note::\n",
      " |          This method modifies the module in-place.\n",
      " |      \n",
      " |      Args:\n",
      " |          device (:class:`torch.device`): the desired device of the parameters\n",
      " |              and buffers in this module\n",
      " |          dtype (:class:`torch.dtype`): the desired floating point or complex dtype of\n",
      " |              the parameters and buffers in this module\n",
      " |          tensor (torch.Tensor): Tensor whose dtype and device are the desired\n",
      " |              dtype and device for all parameters and buffers in this module\n",
      " |          memory_format (:class:`torch.memory_format`): the desired memory\n",
      " |              format for 4D parameters and buffers in this module (keyword\n",
      " |              only argument)\n",
      " |      \n",
      " |      Returns:\n",
      " |          Module: self\n",
      " |      \n",
      " |      Examples::\n",
      " |      \n",
      " |          >>> linear = nn.Linear(2, 2)\n",
      " |          >>> linear.weight\n",
      " |          Parameter containing:\n",
      " |          tensor([[ 0.1913, -0.3420],\n",
      " |                  [-0.5113, -0.2325]])\n",
      " |          >>> linear.to(torch.double)\n",
      " |          Linear(in_features=2, out_features=2, bias=True)\n",
      " |          >>> linear.weight\n",
      " |          Parameter containing:\n",
      " |          tensor([[ 0.1913, -0.3420],\n",
      " |                  [-0.5113, -0.2325]], dtype=torch.float64)\n",
      " |          >>> gpu1 = torch.device(\"cuda:1\")\n",
      " |          >>> linear.to(gpu1, dtype=torch.half, non_blocking=True)\n",
      " |          Linear(in_features=2, out_features=2, bias=True)\n",
      " |          >>> linear.weight\n",
      " |          Parameter containing:\n",
      " |          tensor([[ 0.1914, -0.3420],\n",
      " |                  [-0.5112, -0.2324]], dtype=torch.float16, device='cuda:1')\n",
      " |          >>> cpu = torch.device(\"cpu\")\n",
      " |          >>> linear.to(cpu)\n",
      " |          Linear(in_features=2, out_features=2, bias=True)\n",
      " |          >>> linear.weight\n",
      " |          Parameter containing:\n",
      " |          tensor([[ 0.1914, -0.3420],\n",
      " |                  [-0.5112, -0.2324]], dtype=torch.float16)\n",
      " |      \n",
      " |          >>> linear = nn.Linear(2, 2, bias=None).to(torch.cdouble)\n",
      " |          >>> linear.weight\n",
      " |          Parameter containing:\n",
      " |          tensor([[ 0.3741+0.j,  0.2382+0.j],\n",
      " |                  [ 0.5593+0.j, -0.4443+0.j]], dtype=torch.complex128)\n",
      " |          >>> linear(torch.ones(3, 2, dtype=torch.cdouble))\n",
      " |          tensor([[0.6122+0.j, 0.1150+0.j],\n",
      " |                  [0.6122+0.j, 0.1150+0.j],\n",
      " |                  [0.6122+0.j, 0.1150+0.j]], dtype=torch.complex128)\n",
      " |  \n",
      " |  to_empty(self: ~T, *, device: Union[str, torch.device]) -> ~T\n",
      " |      Moves the parameters and buffers to the specified device without copying storage.\n",
      " |      \n",
      " |      Args:\n",
      " |          device (:class:`torch.device`): The desired device of the parameters\n",
      " |              and buffers in this module.\n",
      " |      \n",
      " |      Returns:\n",
      " |          Module: self\n",
      " |  \n",
      " |  train(self: ~T, mode: bool = True) -> ~T\n",
      " |      Sets the module in training mode.\n",
      " |      \n",
      " |      This has any effect only on certain modules. See documentations of\n",
      " |      particular modules for details of their behaviors in training/evaluation\n",
      " |      mode, if they are affected, e.g. :class:`Dropout`, :class:`BatchNorm`,\n",
      " |      etc.\n",
      " |      \n",
      " |      Args:\n",
      " |          mode (bool): whether to set training mode (``True``) or evaluation\n",
      " |                       mode (``False``). Default: ``True``.\n",
      " |      \n",
      " |      Returns:\n",
      " |          Module: self\n",
      " |  \n",
      " |  type(self: ~T, dst_type: Union[torch.dtype, str]) -> ~T\n",
      " |      Casts all parameters and buffers to :attr:`dst_type`.\n",
      " |      \n",
      " |      .. note::\n",
      " |          This method modifies the module in-place.\n",
      " |      \n",
      " |      Args:\n",
      " |          dst_type (type or string): the desired type\n",
      " |      \n",
      " |      Returns:\n",
      " |          Module: self\n",
      " |  \n",
      " |  xpu(self: ~T, device: Union[int, torch.device, NoneType] = None) -> ~T\n",
      " |      Moves all model parameters and buffers to the XPU.\n",
      " |      \n",
      " |      This also makes associated parameters and buffers different objects. So\n",
      " |      it should be called before constructing optimizer if the module will\n",
      " |      live on XPU while being optimized.\n",
      " |      \n",
      " |      .. note::\n",
      " |          This method modifies the module in-place.\n",
      " |      \n",
      " |      Arguments:\n",
      " |          device (int, optional): if specified, all parameters will be\n",
      " |              copied to that device\n",
      " |      \n",
      " |      Returns:\n",
      " |          Module: self\n",
      " |  \n",
      " |  zero_grad(self, set_to_none: bool = False) -> None\n",
      " |      Sets gradients of all model parameters to zero. See similar function\n",
      " |      under :class:`torch.optim.Optimizer` for more context.\n",
      " |      \n",
      " |      Args:\n",
      " |          set_to_none (bool): instead of setting to zero, set the grads to None.\n",
      " |              See :meth:`torch.optim.Optimizer.zero_grad` for details.\n",
      " |  \n",
      " |  ----------------------------------------------------------------------\n",
      " |  Data descriptors inherited from torch.nn.modules.module.Module:\n",
      " |  \n",
      " |  __dict__\n",
      " |      dictionary for instance variables (if defined)\n",
      " |  \n",
      " |  __weakref__\n",
      " |      list of weak references to the object (if defined)\n",
      " |  \n",
      " |  ----------------------------------------------------------------------\n",
      " |  Data and other attributes inherited from torch.nn.modules.module.Module:\n",
      " |  \n",
      " |  T_destination = ~T_destination\n",
      " |  \n",
      " |  dump_patches = False\n",
      "\n"
     ]
    }
   ],
   "source": [
    "help(lin)  # La couche linéaire (y = x@A.T + b) attend en entrée un tenseur de shape (n_observations, features_in) et renvoit un tenseur de shape (n_observations, features_out)"
   ]
  },
  {
   "cell_type": "code",
   "execution_count": 28,
   "metadata": {},
   "outputs": [
    {
     "name": "stdout",
     "output_type": "stream",
     "text": [
      "tensor([[-0.6697,  0.7215, -0.2842],\n",
      "        [-0.2967,  0.6847, -0.1932],\n",
      "        [-0.6549,  0.6110, -0.3588],\n",
      "        [-0.2769,  0.6615, -0.2036],\n",
      "        [-0.3199,  0.7896, -0.1253],\n",
      "        [-0.5514,  0.4987, -0.4067],\n",
      "        [-0.1969,  0.4571, -0.3250],\n",
      "        [ 0.0204,  0.6310, -0.1319],\n",
      "        [-0.5500,  0.7461, -0.2289],\n",
      "        [-0.5914,  0.3818, -0.5031]], grad_fn=<AddmmBackward0>)\n"
     ]
    }
   ],
   "source": [
    "r = lin(torch.rand(10, 2))  # on peut appliquer l'opération correspondante en utilisant l'opérateur __call__\n",
    "print(repr(r))"
   ]
  },
  {
   "cell_type": "code",
   "execution_count": 29,
   "metadata": {},
   "outputs": [
    {
     "data": {
      "text/plain": [
       "[Parameter containing:\n",
       " tensor([[-0.6912, -0.2217],\n",
       "         [-0.2966,  0.5281],\n",
       "         [-0.4302,  0.3088]], requires_grad=True),\n",
       " Parameter containing:\n",
       " tensor([ 0.1249,  0.4425, -0.2342], requires_grad=True)]"
      ]
     },
     "execution_count": 29,
     "metadata": {},
     "output_type": "execute_result"
    }
   ],
   "source": [
    "list(lin.parameters())  # on peut obtenir un itérable des paramètres d'un module ave cla méthode \"parameters\""
   ]
  },
  {
   "cell_type": "code",
   "execution_count": 65,
   "metadata": {},
   "outputs": [],
   "source": [
    "# On peut définir ses propres modules en dérivant la classe torch.nn.Module\n",
    "class MyModule(torch.nn.Module):\n",
    "\n",
    "    def __init__(self, in_features, out_features, activation):\n",
    "        super().__init__()\n",
    "        self.linear = torch.nn.Linear(in_features, out_features)\n",
    "        self.activation = activation\n",
    "    \n",
    "    def forward(self, X):\n",
    "        X = self.linear(X)\n",
    "        X = self.activation(X)\n",
    "        return X\n"
   ]
  },
  {
   "cell_type": "code",
   "execution_count": 89,
   "metadata": {},
   "outputs": [],
   "source": [
    "module = MyModule(2, 3, torch.relu)"
   ]
  },
  {
   "cell_type": "code",
   "execution_count": 91,
   "metadata": {},
   "outputs": [
    {
     "data": {
      "text/plain": [
       "MyModule(\n",
       "  (linear): Linear(in_features=2, out_features=3, bias=True)\n",
       ")"
      ]
     },
     "execution_count": 91,
     "metadata": {},
     "output_type": "execute_result"
    }
   ],
   "source": [
    "# les module ont une représentation sous forme de string qui détaille leur contenu récursivement\n",
    "module"
   ]
  },
  {
   "cell_type": "code",
   "execution_count": 66,
   "metadata": {},
   "outputs": [
    {
     "data": {
      "text/plain": [
       "tensor([[0.0000, 0.0000, 0.0700],\n",
       "        [0.0000, 0.0000, 0.0231],\n",
       "        [0.0000, 0.0000, 0.1498],\n",
       "        [0.0000, 0.0000, 0.0834],\n",
       "        [0.0000, 0.0000, 0.1918],\n",
       "        [0.0000, 0.0000, 0.1613],\n",
       "        [0.0000, 0.0000, 0.1391],\n",
       "        [0.0000, 0.0000, 0.2100],\n",
       "        [0.0000, 0.0000, 0.0734],\n",
       "        [0.0000, 0.0000, 0.0172]], grad_fn=<ReluBackward0>)"
      ]
     },
     "execution_count": 66,
     "metadata": {},
     "output_type": "execute_result"
    }
   ],
   "source": [
    "# de la même manière que pour la couche \"Linear\", on peut appliquer notre couche \"MyModule\"\n",
    "module(torch.rand(10, 2))"
   ]
  },
  {
   "cell_type": "code",
   "execution_count": 55,
   "metadata": {},
   "outputs": [
    {
     "data": {
      "text/plain": [
       "[Linear(in_features=2, out_features=3, bias=True)]"
      ]
     },
     "execution_count": 55,
     "metadata": {},
     "output_type": "execute_result"
    }
   ],
   "source": [
    "list(module.children())  # On peut récupérer un itérable sur les sous modules avec la méthode \"children\""
   ]
  },
  {
   "cell_type": "code",
   "execution_count": 56,
   "metadata": {},
   "outputs": [
    {
     "data": {
      "text/plain": [
       "[Parameter containing:\n",
       " tensor([[ 0.0331,  0.2052],\n",
       "         [ 0.3179,  0.6617],\n",
       "         [ 0.1515, -0.0843]], requires_grad=True),\n",
       " Parameter containing:\n",
       " tensor([-0.4823,  0.0609, -0.0599], requires_grad=True)]"
      ]
     },
     "execution_count": 56,
     "metadata": {},
     "output_type": "execute_result"
    }
   ],
   "source": [
    "list(module.parameters())  # La méthode \"parameter\" renvoit aussi les groupes de paramètres des sous modules"
   ]
  },
  {
   "cell_type": "code",
   "execution_count": 57,
   "metadata": {},
   "outputs": [
    {
     "data": {
      "text/plain": [
       "True"
      ]
     },
     "execution_count": 57,
     "metadata": {},
     "output_type": "execute_result"
    }
   ],
   "source": [
    "# Certains Modules ne doivent pas avoir le même comportement lors de l'entraînement et de l'évaluation.\n",
    "# Un flag permet de déterminer si le module est en mode entraînement ou évaluation\n",
    "dropout = torch.nn.Dropout(p=0.5)\n",
    "dropout.training"
   ]
  },
  {
   "cell_type": "code",
   "execution_count": 58,
   "metadata": {},
   "outputs": [
    {
     "data": {
      "text/plain": [
       "tensor([[0.0779, 0.0000, 0.0000],\n",
       "        [0.5985, 0.1045, 0.0000],\n",
       "        [0.0000, 0.0000, 1.1634]])"
      ]
     },
     "execution_count": 58,
     "metadata": {},
     "output_type": "execute_result"
    }
   ],
   "source": [
    "# on peut passer un module (et ses sous modules recursivement) en mode entraînement avec la méthode \"train\"\n",
    "dropout.train()\n",
    "dropout(torch.rand(3, 3))"
   ]
  },
  {
   "cell_type": "code",
   "execution_count": 59,
   "metadata": {},
   "outputs": [
    {
     "data": {
      "text/plain": [
       "tensor([[0.3105, 0.5995, 0.5016],\n",
       "        [0.7356, 0.8552, 0.6558],\n",
       "        [0.1415, 0.1625, 0.6439]])"
      ]
     },
     "execution_count": 59,
     "metadata": {},
     "output_type": "execute_result"
    }
   ],
   "source": [
    "# on peut passer un module (et ses sous modules recursivement) en mode entraînement avec la méthode \"eval\"\n",
    "dropout.eval()\n",
    "dropout(torch.rand(3, 3))"
   ]
  },
  {
   "cell_type": "markdown",
   "metadata": {},
   "source": [
    "## IV) Les algorithmes d'optimization"
   ]
  },
  {
   "cell_type": "code",
   "execution_count": 73,
   "metadata": {},
   "outputs": [],
   "source": [
    "# On peut définir des paramètres personnalisés pour nos modules\n",
    "p = torch.nn.parameter.Parameter(torch.zeros(1))"
   ]
  },
  {
   "cell_type": "code",
   "execution_count": 82,
   "metadata": {},
   "outputs": [],
   "source": [
    "# les algorithmes d'optimization sont disponibles dans le namespace torch.optim\n",
    "# ils prennent généralement en paramètre la liste de sparamètres du modèle, et le lerning rate\n",
    "optimizer = torch.optim.Adam([p], lr=1.0E-3)"
   ]
  },
  {
   "cell_type": "code",
   "execution_count": 87,
   "metadata": {},
   "outputs": [
    {
     "name": "stdout",
     "output_type": "stream",
     "text": [
      "tensor([1.9920])\n"
     ]
    }
   ],
   "source": [
    "# propagation du gradient\n",
    "loss = p**2 + 2*p - 1\n",
    "loss.backward()\n",
    "print(p.grad)"
   ]
  },
  {
   "cell_type": "code",
   "execution_count": 85,
   "metadata": {},
   "outputs": [
    {
     "name": "stdout",
     "output_type": "stream",
     "text": [
      "Parameter containing:\n",
      "tensor([-0.0040], requires_grad=True)\n"
     ]
    }
   ],
   "source": [
    "# appeler la méthode \"step\" permet de faire un pas de l'algorithme d'optimizationµ\n",
    "optimizer.step()\n",
    "print(repr(p))"
   ]
  },
  {
   "cell_type": "code",
   "execution_count": 86,
   "metadata": {},
   "outputs": [
    {
     "name": "stdout",
     "output_type": "stream",
     "text": [
      "tensor([0.])\n"
     ]
    }
   ],
   "source": [
    "# pour remettre à zéro le graident il faut appeler la méthode \"zero_grad\" avant chaque back propagation\n",
    "optimizer.zero_grad()\n",
    "print(p.grad)"
   ]
  },
  {
   "cell_type": "markdown",
   "metadata": {},
   "source": [
    "## V) Le checkpointing et la sauvegarde de modèle"
   ]
  },
  {
   "cell_type": "code",
   "execution_count": 88,
   "metadata": {},
   "outputs": [
    {
     "data": {
      "text/plain": [
       "OrderedDict([('linear.weight',\n",
       "              tensor([[-0.6433, -0.4841],\n",
       "                      [-0.0977, -0.2822],\n",
       "                      [-0.1052,  0.2388]])),\n",
       "             ('linear.bias', tensor([-0.4830, -0.3558,  0.0364]))])"
      ]
     },
     "execution_count": 88,
     "metadata": {},
     "output_type": "execute_result"
    }
   ],
   "source": [
    "# On peut obtenir un dictionnaire d'état d'un Module avec la méthode \"state_dict\"\n",
    "module.state_dict()"
   ]
  },
  {
   "cell_type": "code",
   "execution_count": 95,
   "metadata": {},
   "outputs": [],
   "source": [
    "# pour créer des checkpoint, il faut faire une copie profonde de l'état pour ne pas garder une référence sur les tenseurs, mais une copie\n",
    "checkpoint = deepcopy(module.state_dict())"
   ]
  },
  {
   "cell_type": "code",
   "execution_count": 96,
   "metadata": {},
   "outputs": [
    {
     "data": {
      "text/plain": [
       "<All keys matched successfully>"
      ]
     },
     "execution_count": 96,
     "metadata": {},
     "output_type": "execute_result"
    }
   ],
   "source": [
    "# on peut charger un état sauvegardé en mémoire avec la méthode \"load_state_dict\"\n",
    "module.load_state_dict(checkpoint)"
   ]
  },
  {
   "cell_type": "code",
   "execution_count": 97,
   "metadata": {},
   "outputs": [
    {
     "name": "stdout",
     "output_type": "stream",
     "text": [
      "Help on function save in module torch.serialization:\n",
      "\n",
      "save(obj, f: Union[str, os.PathLike, BinaryIO, IO[bytes]], pickle_module=<module 'pickle' from 'c:\\\\Users\\\\Benoit\\\\miniconda3\\\\lib\\\\pickle.py'>, pickle_protocol=2, _use_new_zipfile_serialization=True) -> None\n",
      "    save(obj, f, pickle_module=pickle, pickle_protocol=DEFAULT_PROTOCOL, _use_new_zipfile_serialization=True)\n",
      "    \n",
      "    Saves an object to a disk file.\n",
      "    \n",
      "    See also: :ref:`saving-loading-tensors`\n",
      "    \n",
      "    Args:\n",
      "        obj: saved object\n",
      "        f: a file-like object (has to implement write and flush) or a string or\n",
      "           os.PathLike object containing a file name\n",
      "        pickle_module: module used for pickling metadata and objects\n",
      "        pickle_protocol: can be specified to override the default protocol\n",
      "    \n",
      "    .. note::\n",
      "        A common PyTorch convention is to save tensors using .pt file extension.\n",
      "    \n",
      "    .. note::\n",
      "        PyTorch preserves storage sharing across serialization. See\n",
      "        :ref:`preserve-storage-sharing` for more details.\n",
      "    \n",
      "    .. note::\n",
      "        The 1.6 release of PyTorch switched ``torch.save`` to use a new\n",
      "        zipfile-based file format. ``torch.load`` still retains the ability to\n",
      "        load files in the old format. If for any reason you want ``torch.save``\n",
      "        to use the old format, pass the kwarg ``_use_new_zipfile_serialization=False``.\n",
      "    \n",
      "    Example:\n",
      "        >>> # Save to file\n",
      "        >>> x = torch.tensor([0, 1, 2, 3, 4])\n",
      "        >>> torch.save(x, 'tensor.pt')\n",
      "        >>> # Save to io.BytesIO buffer\n",
      "        >>> buffer = io.BytesIO()\n",
      "        >>> torch.save(x, buffer)\n",
      "\n"
     ]
    }
   ],
   "source": [
    "# pour sauvegarder un objet python sur le disk/charger un bojet depuis le disk, on peut utiliser les fonctions torch.save et torch.load\n",
    "help(torch.save)"
   ]
  },
  {
   "cell_type": "code",
   "execution_count": 98,
   "metadata": {},
   "outputs": [
    {
     "name": "stdout",
     "output_type": "stream",
     "text": [
      "Help on function load in module torch.serialization:\n",
      "\n",
      "load(f, map_location=None, pickle_module=<module 'pickle' from 'c:\\\\Users\\\\Benoit\\\\miniconda3\\\\lib\\\\pickle.py'>, **pickle_load_args)\n",
      "    load(f, map_location=None, pickle_module=pickle, **pickle_load_args)\n",
      "    \n",
      "    Loads an object saved with :func:`torch.save` from a file.\n",
      "    \n",
      "    :func:`torch.load` uses Python's unpickling facilities but treats storages,\n",
      "    which underlie tensors, specially. They are first deserialized on the\n",
      "    CPU and are then moved to the device they were saved from. If this fails\n",
      "    (e.g. because the run time system doesn't have certain devices), an exception\n",
      "    is raised. However, storages can be dynamically remapped to an alternative\n",
      "    set of devices using the :attr:`map_location` argument.\n",
      "    \n",
      "    If :attr:`map_location` is a callable, it will be called once for each serialized\n",
      "    storage with two arguments: storage and location. The storage argument\n",
      "    will be the initial deserialization of the storage, residing on the CPU.\n",
      "    Each serialized storage has a location tag associated with it which\n",
      "    identifies the device it was saved from, and this tag is the second\n",
      "    argument passed to :attr:`map_location`. The builtin location tags are ``'cpu'``\n",
      "    for CPU tensors and ``'cuda:device_id'`` (e.g. ``'cuda:2'``) for CUDA tensors.\n",
      "    :attr:`map_location` should return either ``None`` or a storage. If\n",
      "    :attr:`map_location` returns a storage, it will be used as the final deserialized\n",
      "    object, already moved to the right device. Otherwise, :func:`torch.load` will\n",
      "    fall back to the default behavior, as if :attr:`map_location` wasn't specified.\n",
      "    \n",
      "    If :attr:`map_location` is a :class:`torch.device` object or a string containing\n",
      "    a device tag, it indicates the location where all tensors should be loaded.\n",
      "    \n",
      "    Otherwise, if :attr:`map_location` is a dict, it will be used to remap location tags\n",
      "    appearing in the file (keys), to ones that specify where to put the\n",
      "    storages (values).\n",
      "    \n",
      "    User extensions can register their own location tags and tagging and\n",
      "    deserialization methods using :func:`torch.serialization.register_package`.\n",
      "    \n",
      "    Args:\n",
      "        f: a file-like object (has to implement :meth:`read`, :meth:`readline`, :meth:`tell`, and :meth:`seek`),\n",
      "            or a string or os.PathLike object containing a file name\n",
      "        map_location: a function, :class:`torch.device`, string or a dict specifying how to remap storage\n",
      "            locations\n",
      "        pickle_module: module used for unpickling metadata and objects (has to\n",
      "            match the :attr:`pickle_module` used to serialize file)\n",
      "        pickle_load_args: (Python 3 only) optional keyword arguments passed over to\n",
      "            :func:`pickle_module.load` and :func:`pickle_module.Unpickler`, e.g.,\n",
      "            :attr:`errors=...`.\n",
      "    \n",
      "    .. warning::\n",
      "        :func:`torch.load()` uses ``pickle`` module implicitly, which is known to be insecure.\n",
      "        It is possible to construct malicious pickle data which will execute arbitrary code\n",
      "        during unpickling. Never load data that could have come from an untrusted\n",
      "        source, or that could have been tampered with. **Only load data you trust**.\n",
      "    \n",
      "    .. note::\n",
      "        When you call :func:`torch.load()` on a file which contains GPU tensors, those tensors\n",
      "        will be loaded to GPU by default. You can call ``torch.load(.., map_location='cpu')``\n",
      "        and then :meth:`load_state_dict` to avoid GPU RAM surge when loading a model checkpoint.\n",
      "    \n",
      "    .. note::\n",
      "        By default, we decode byte strings as ``utf-8``.  This is to avoid a common error\n",
      "        case ``UnicodeDecodeError: 'ascii' codec can't decode byte 0x...``\n",
      "        when loading files saved by Python 2 in Python 3.  If this default\n",
      "        is incorrect, you may use an extra :attr:`encoding` keyword argument to specify how\n",
      "        these objects should be loaded, e.g., :attr:`encoding='latin1'` decodes them\n",
      "        to strings using ``latin1`` encoding, and :attr:`encoding='bytes'` keeps them\n",
      "        as byte arrays which can be decoded later with ``byte_array.decode(...)``.\n",
      "    \n",
      "    Example:\n",
      "        >>> torch.load('tensors.pt')\n",
      "        # Load all tensors onto the CPU\n",
      "        >>> torch.load('tensors.pt', map_location=torch.device('cpu'))\n",
      "        # Load all tensors onto the CPU, using a function\n",
      "        >>> torch.load('tensors.pt', map_location=lambda storage, loc: storage)\n",
      "        # Load all tensors onto GPU 1\n",
      "        >>> torch.load('tensors.pt', map_location=lambda storage, loc: storage.cuda(1))\n",
      "        # Map tensors from GPU 1 to GPU 0\n",
      "        >>> torch.load('tensors.pt', map_location={'cuda:1':'cuda:0'})\n",
      "        # Load tensor from io.BytesIO object\n",
      "        >>> with open('tensor.pt', 'rb') as f:\n",
      "        ...     buffer = io.BytesIO(f.read())\n",
      "        >>> torch.load(buffer)\n",
      "        # Load a module with 'ascii' encoding for unpickling\n",
      "        >>> torch.load('module.pt', encoding='ascii')\n",
      "\n"
     ]
    }
   ],
   "source": [
    "help(torch.load)"
   ]
  },
  {
   "cell_type": "markdown",
   "metadata": {},
   "source": [
    "## Exercice I\n",
    "\n",
    "Definir un Module correspondant à une couche cachée d'un modèle feed forward"
   ]
  },
  {
   "cell_type": "code",
   "execution_count": 48,
   "metadata": {},
   "outputs": [],
   "source": [
    "class Layer(torch.nn.Module):\n",
    "    \"\"\"\n",
    "    Un objet 'Layer' est une couche cachée d'un réseau feed forward\n",
    "    \"\"\"\n",
    "\n",
    "    def __init__(self, in_features: int, out_features: int, activation: Callable, dropout: float, with_batch_norm: bool):\n",
    "        \"\"\"\n",
    "        Parameters\n",
    "        ----------\n",
    "        in_features : int\n",
    "            number of features in input tensors\n",
    "        out_features : int\n",
    "            number of features in output\n",
    "        activation : Callable\n",
    "            activation function applied after linear projection and batch normalization\n",
    "        dropout : float\n",
    "            dropout probability for gidden layers\n",
    "        \n",
    "        Returns\n",
    "        -------\n",
    "        torch.Tensor :\n",
    "            tensor of shape (N, H_out)\n",
    "        \"\"\"\n",
    "        super().__init__()\n",
    "        self.linear = torch.nn.Linear(in_features, out_features)\n",
    "        self.with_batch_norm = with_batch_norm\n",
    "        self.batch_norm = torch.nn.BatchNorm1d(out_features)\n",
    "        self.activation = activation\n",
    "        self.dropout = torch.nn.Dropout(dropout)\n",
    "\n",
    "    def forward(self, X: torch.Tensor) -> torch.Tensor:\n",
    "        \"\"\"\n",
    "        Parameters\n",
    "        ----------\n",
    "        X : torch.Tensor\n",
    "            tensor of shape (N, H_in)\n",
    "        \n",
    "        Returns\n",
    "        -------\n",
    "        torch.Tensor :\n",
    "            tensor of shape (N, H_out)\n",
    "        \"\"\"\n",
    "        X = self.linear(X)\n",
    "        if self.with_batch_norm:\n",
    "            X = self.batch_norm(X)\n",
    "        X = self.activation(X)\n",
    "        X = self.dropout(X)\n",
    "        return X"
   ]
  },
  {
   "cell_type": "markdown",
   "metadata": {},
   "source": [
    "## Exercice II\n",
    "\n",
    "Définir la classe FeedForwardRegressor\n",
    "\n",
    "Compléter la fonction \"train_loop\" pour qu'elle entraîne le modèle sur les données générées"
   ]
  },
  {
   "cell_type": "code",
   "execution_count": 42,
   "metadata": {},
   "outputs": [],
   "source": [
    "def y(x: torch.Tensor) -> torch.Tensor:\n",
    "    return x**2 + torch.normal(0., 0.1, x.shape)"
   ]
  },
  {
   "cell_type": "code",
   "execution_count": 43,
   "metadata": {},
   "outputs": [
    {
     "data": {
      "text/plain": [
       "<matplotlib.legend.Legend at 0x289c75c81c0>"
      ]
     },
     "execution_count": 43,
     "metadata": {},
     "output_type": "execute_result"
    },
    {
     "data": {
      "image/png": "[encoded data removed]",
      "text/plain": [
       "<Figure size 432x288 with 1 Axes>"
      ]
     },
     "metadata": {
      "needs_background": "light"
     },
     "output_type": "display_data"
    }
   ],
   "source": [
    "x_train = torch.linspace(-1., 1., 160).unsqueeze(1)\n",
    "y_train = y(x_train)\n",
    "x_val = torch.rand((40, 1)) * 2 - 1\n",
    "y_val = y(x_val)\n",
    "plt.scatter(x_train.reshape(-1).tolist(), y_train.reshape(-1).tolist(), label=\"training\")\n",
    "plt.scatter(x_val.reshape(-1).tolist(), y_val.reshape(-1).tolist(), label=\"validation\")\n",
    "plt.legend()"
   ]
  },
  {
   "cell_type": "code",
   "execution_count": 49,
   "metadata": {},
   "outputs": [],
   "source": [
    "class FeedForwardRegressor(torch.nn.Module):\n",
    "    \"\"\"\n",
    "    Un objet 'FeedForwardRegressor' est un modèle feed forward pour la régression\n",
    "    \"\"\"\n",
    "\n",
    "    def __init__(self, in_features: int, hidden_features: list[int], activation: Callable = F.relu, dropout: float = 0., with_batch_norm: bool = True):\n",
    "        super().__init__()\n",
    "        self.hidden_layers = torch.nn.ModuleList()\n",
    "        for out_features in hidden_features:\n",
    "            self.hidden_layers.append(Layer(in_features, out_features, activation, dropout, with_batch_norm))\n",
    "            in_features = out_features\n",
    "        self.output_projection = torch.nn.Linear(out_features, 1)\n",
    "    \n",
    "    def forward(self, X: torch.Tensor) -> torch.Tensor:\n",
    "        \"\"\"\n",
    "        Parameters\n",
    "        ----------\n",
    "        X : torch.Tensor\n",
    "            tensor of shape (N, H_in)\n",
    "        \n",
    "        Returns\n",
    "        -------\n",
    "        torch.Tensor :\n",
    "            tensor of shape (N, H_out)\n",
    "        \"\"\"\n",
    "        for layer in self.hidden_layers:\n",
    "            X = layer(X)\n",
    "        return self.output_projection(X)"
   ]
  },
  {
   "cell_type": "code",
   "execution_count": 44,
   "metadata": {},
   "outputs": [],
   "source": [
    "def train_loop(model: torch.nn.Module, optimizer: torch.optim.Optimizer, train_data: tuple[torch.Tensor], val_data: tuple[torch.Tensor], loss_function: Callable, n_steps: int = 100, patience: int = 10, keep_best: bool = True):\n",
    "    \"\"\"\n",
    "    performs the training for a given number of iterations\n",
    "    \"\"\"\n",
    "    x_train, y_train = train_data\n",
    "    x_val, y_val = val_data\n",
    "    best_metric = float(\"inf\")\n",
    "    best_step = 0\n",
    "    checkpoint = deepcopy(model.state_dict())\n",
    "    try:\n",
    "        for step in range(n_steps):\n",
    "            # setting the gradient to zero to avoid gradient accumulation\n",
    "            optimizer.zero_grad()\n",
    "            # training\n",
    "            model.train()\n",
    "            loss = loss_function(model(x_train), y_train)\n",
    "            loss.backward()\n",
    "            # validation\n",
    "            model.eval()\n",
    "            with torch.no_grad():\n",
    "                metric = loss_function(model(x_val), y_val).item()\n",
    "            if metric < best_metric:\n",
    "                best_metric = metric\n",
    "                best_step = step\n",
    "                if keep_best:\n",
    "                    checkpoint = deepcopy(model.state_dict())\n",
    "            elif step - best_step == patience:\n",
    "                print(\"early stopping\")\n",
    "                break\n",
    "            # printing progress\n",
    "            print(f\"Step {step}: loss = {loss.item():.3g}, metric = {metric:.3g}\", flush=True)\n",
    "            # step of the optimizer\n",
    "            optimizer.step()\n",
    "    except KeyboardInterrupt:\n",
    "        print(\"interupted by user\")\n",
    "    if keep_best:\n",
    "        model.load_state_dict(checkpoint)"
   ]
  },
  {
   "cell_type": "code",
   "execution_count": 46,
   "metadata": {},
   "outputs": [
    {
     "name": "stdout",
     "output_type": "stream",
     "text": [
      "Step 0: loss = 0.325, metric = 0.108\n",
      "Step 1: loss = 0.188, metric = 0.105\n",
      "Step 2: loss = 0.0983, metric = 0.102\n",
      "Step 3: loss = 0.063, metric = 0.0983\n",
      "Step 4: loss = 0.0408, metric = 0.0944\n",
      "Step 5: loss = 0.0292, metric = 0.0903\n",
      "Step 6: loss = 0.0247, metric = 0.0872\n",
      "Step 7: loss = 0.0279, metric = 0.0846\n",
      "Step 8: loss = 0.0265, metric = 0.0825\n",
      "Step 9: loss = 0.0266, metric = 0.0806\n",
      "Step 10: loss = 0.0266, metric = 0.0787\n",
      "Step 11: loss = 0.0258, metric = 0.0765\n",
      "Step 12: loss = 0.0242, metric = 0.0743\n",
      "Step 13: loss = 0.0222, metric = 0.0726\n",
      "Step 14: loss = 0.02, metric = 0.071\n",
      "Step 15: loss = 0.0179, metric = 0.0694\n",
      "Step 16: loss = 0.0161, metric = 0.0675\n",
      "Step 17: loss = 0.0146, metric = 0.0656\n",
      "Step 18: loss = 0.0134, metric = 0.0636\n",
      "Step 19: loss = 0.0126, metric = 0.0619\n",
      "Step 20: loss = 0.0121, metric = 0.06\n",
      "Step 21: loss = 0.0118, metric = 0.0578\n",
      "Step 22: loss = 0.0118, metric = 0.055\n",
      "Step 23: loss = 0.0119, metric = 0.0519\n",
      "Step 24: loss = 0.012, metric = 0.0488\n",
      "Step 25: loss = 0.0122, metric = 0.0456\n",
      "Step 26: loss = 0.0124, metric = 0.0423\n",
      "Step 27: loss = 0.0126, metric = 0.039\n",
      "Step 28: loss = 0.0127, metric = 0.0358\n",
      "Step 29: loss = 0.0128, metric = 0.0327\n",
      "Step 30: loss = 0.0128, metric = 0.0297\n",
      "Step 31: loss = 0.0127, metric = 0.0269\n",
      "Step 32: loss = 0.0126, metric = 0.0244\n",
      "Step 33: loss = 0.0124, metric = 0.0222\n",
      "Step 34: loss = 0.0122, metric = 0.0203\n",
      "Step 35: loss = 0.012, metric = 0.0187\n",
      "Step 36: loss = 0.0118, metric = 0.0175\n",
      "Step 37: loss = 0.0115, metric = 0.0165\n",
      "Step 38: loss = 0.0113, metric = 0.0159\n",
      "Step 39: loss = 0.0111, metric = 0.0155\n",
      "Step 40: loss = 0.011, metric = 0.0154\n",
      "Step 41: loss = 0.0109, metric = 0.0155\n",
      "Step 42: loss = 0.0108, metric = 0.0156\n",
      "Step 43: loss = 0.0107, metric = 0.0159\n",
      "Step 44: loss = 0.0107, metric = 0.0161\n",
      "Step 45: loss = 0.0107, metric = 0.0164\n",
      "Step 46: loss = 0.0107, metric = 0.0166\n",
      "Step 47: loss = 0.0107, metric = 0.0168\n",
      "Step 48: loss = 0.0107, metric = 0.0168\n",
      "Step 49: loss = 0.0107, metric = 0.0169\n",
      "Step 50: loss = 0.0108, metric = 0.0169\n",
      "Step 51: loss = 0.0108, metric = 0.0168\n",
      "Step 52: loss = 0.0108, metric = 0.0167\n",
      "Step 53: loss = 0.0108, metric = 0.0164\n",
      "Step 54: loss = 0.0107, metric = 0.0161\n",
      "Step 55: loss = 0.0107, metric = 0.0157\n",
      "Step 56: loss = 0.0107, metric = 0.0152\n",
      "Step 57: loss = 0.0107, metric = 0.0147\n",
      "Step 58: loss = 0.0106, metric = 0.0141\n",
      "Step 59: loss = 0.0106, metric = 0.0135\n",
      "Step 60: loss = 0.0106, metric = 0.0129\n",
      "Step 61: loss = 0.0106, metric = 0.0124\n",
      "Step 62: loss = 0.0106, metric = 0.0119\n",
      "Step 63: loss = 0.0105, metric = 0.0115\n",
      "Step 64: loss = 0.0105, metric = 0.0112\n",
      "Step 65: loss = 0.0105, metric = 0.0108\n",
      "Step 66: loss = 0.0105, metric = 0.0106\n",
      "Step 67: loss = 0.0105, metric = 0.0103\n",
      "Step 68: loss = 0.0105, metric = 0.0102\n",
      "Step 69: loss = 0.0105, metric = 0.01\n",
      "Step 70: loss = 0.0105, metric = 0.00991\n",
      "Step 71: loss = 0.0105, metric = 0.00981\n",
      "Step 72: loss = 0.0105, metric = 0.00973\n",
      "Step 73: loss = 0.0105, metric = 0.00967\n",
      "Step 74: loss = 0.0105, metric = 0.00961\n",
      "Step 75: loss = 0.0105, metric = 0.00957\n",
      "Step 76: loss = 0.0105, metric = 0.00954\n",
      "Step 77: loss = 0.0105, metric = 0.00951\n",
      "Step 78: loss = 0.0105, metric = 0.00948\n",
      "Step 79: loss = 0.0105, metric = 0.00946\n",
      "Step 80: loss = 0.0105, metric = 0.00945\n",
      "Step 81: loss = 0.0104, metric = 0.00944\n",
      "Step 82: loss = 0.0104, metric = 0.00943\n",
      "Step 83: loss = 0.0104, metric = 0.00942\n",
      "Step 84: loss = 0.0104, metric = 0.00941\n",
      "Step 85: loss = 0.0104, metric = 0.0094\n",
      "Step 86: loss = 0.0104, metric = 0.00939\n",
      "Step 87: loss = 0.0104, metric = 0.00938\n",
      "Step 88: loss = 0.0104, metric = 0.00937\n",
      "Step 89: loss = 0.0104, metric = 0.00936\n",
      "Step 90: loss = 0.0104, metric = 0.00936\n",
      "Step 91: loss = 0.0104, metric = 0.00935\n",
      "Step 92: loss = 0.0104, metric = 0.00935\n",
      "Step 93: loss = 0.0104, metric = 0.00935\n",
      "Step 94: loss = 0.0103, metric = 0.00934\n",
      "Step 95: loss = 0.0103, metric = 0.00934\n",
      "Step 96: loss = 0.0103, metric = 0.00933\n",
      "Step 97: loss = 0.0103, metric = 0.00931\n",
      "Step 98: loss = 0.0103, metric = 0.0093\n",
      "Step 99: loss = 0.0103, metric = 0.00927\n",
      "Step 100: loss = 0.0103, metric = 0.00926\n",
      "Step 101: loss = 0.0103, metric = 0.00926\n",
      "Step 102: loss = 0.0103, metric = 0.00929\n",
      "Step 103: loss = 0.0103, metric = 0.0093\n",
      "Step 104: loss = 0.0103, metric = 0.00931\n",
      "Step 105: loss = 0.0103, metric = 0.0093\n",
      "Step 106: loss = 0.0103, metric = 0.00929\n",
      "Step 107: loss = 0.0103, metric = 0.00929\n",
      "Step 108: loss = 0.0103, metric = 0.00931\n",
      "Step 109: loss = 0.0103, metric = 0.00933\n",
      "Step 110: loss = 0.0102, metric = 0.00935\n",
      "Step 111: loss = 0.0102, metric = 0.00937\n",
      "Step 112: loss = 0.0102, metric = 0.00938\n",
      "Step 113: loss = 0.0102, metric = 0.00938\n",
      "Step 114: loss = 0.0102, metric = 0.00939\n",
      "Step 115: loss = 0.0102, metric = 0.00939\n",
      "Step 116: loss = 0.0102, metric = 0.0094\n",
      "Step 117: loss = 0.0102, metric = 0.00941\n",
      "Step 118: loss = 0.0102, metric = 0.00943\n",
      "Step 119: loss = 0.0102, metric = 0.00945\n",
      "Step 120: loss = 0.0102, metric = 0.00946\n",
      "Step 121: loss = 0.0102, metric = 0.00947\n",
      "Step 122: loss = 0.0102, metric = 0.00947\n",
      "Step 123: loss = 0.0102, metric = 0.00948\n",
      "Step 124: loss = 0.0102, metric = 0.0095\n",
      "Step 125: loss = 0.0102, metric = 0.00952\n",
      "Step 126: loss = 0.0102, metric = 0.00954\n",
      "Step 127: loss = 0.0102, metric = 0.00955\n",
      "Step 128: loss = 0.0102, metric = 0.00956\n",
      "Step 129: loss = 0.0102, metric = 0.00957\n",
      "Step 130: loss = 0.0102, metric = 0.00958\n",
      "Step 131: loss = 0.0102, metric = 0.0096\n",
      "Step 132: loss = 0.0101, metric = 0.00962\n",
      "Step 133: loss = 0.0101, metric = 0.00964\n",
      "Step 134: loss = 0.0101, metric = 0.00967\n",
      "Step 135: loss = 0.0101, metric = 0.00969\n",
      "Step 136: loss = 0.0101, metric = 0.00972\n",
      "Step 137: loss = 0.0101, metric = 0.00975\n",
      "Step 138: loss = 0.0101, metric = 0.00979\n",
      "Step 139: loss = 0.0101, metric = 0.00983\n",
      "Step 140: loss = 0.0101, metric = 0.00987\n",
      "Step 141: loss = 0.0101, metric = 0.00991\n",
      "Step 142: loss = 0.0101, metric = 0.00995\n",
      "Step 143: loss = 0.0101, metric = 0.00999\n",
      "Step 144: loss = 0.0101, metric = 0.01\n",
      "Step 145: loss = 0.0101, metric = 0.0101\n",
      "Step 146: loss = 0.0101, metric = 0.0101\n",
      "Step 147: loss = 0.01, metric = 0.0102\n",
      "Step 148: loss = 0.01, metric = 0.0102\n",
      "Step 149: loss = 0.01, metric = 0.0103\n",
      "Step 150: loss = 0.01, metric = 0.0103\n",
      "Step 151: loss = 0.01, metric = 0.0104\n",
      "Step 152: loss = 0.01, metric = 0.0105\n",
      "Step 153: loss = 0.01, metric = 0.0105\n",
      "Step 154: loss = 0.00999, metric = 0.0106\n",
      "Step 155: loss = 0.00998, metric = 0.0107\n",
      "Step 156: loss = 0.00998, metric = 0.0108\n",
      "Step 157: loss = 0.00997, metric = 0.0109\n",
      "Step 158: loss = 0.00996, metric = 0.011\n",
      "Step 159: loss = 0.00995, metric = 0.011\n",
      "Step 160: loss = 0.00996, metric = 0.0111\n",
      "Step 161: loss = 0.00996, metric = 0.0111\n",
      "Step 162: loss = 0.00996, metric = 0.0109\n",
      "Step 163: loss = 0.00995, metric = 0.0106\n",
      "Step 164: loss = 0.00995, metric = 0.0103\n",
      "Step 165: loss = 0.00994, metric = 0.00998\n",
      "Step 166: loss = 0.00994, metric = 0.00977\n",
      "Step 167: loss = 0.00994, metric = 0.00966\n",
      "Step 168: loss = 0.00995, metric = 0.00959\n",
      "Step 169: loss = 0.00994, metric = 0.00955\n",
      "Step 170: loss = 0.00994, metric = 0.00953\n",
      "Step 171: loss = 0.00994, metric = 0.00953\n",
      "Step 172: loss = 0.00994, metric = 0.00958\n",
      "Step 173: loss = 0.00993, metric = 0.00964\n",
      "Step 174: loss = 0.00993, metric = 0.00971\n",
      "Step 175: loss = 0.00993, metric = 0.00974\n",
      "Step 176: loss = 0.00993, metric = 0.00972\n",
      "Step 177: loss = 0.00993, metric = 0.00967\n",
      "Step 178: loss = 0.00992, metric = 0.00961\n",
      "Step 179: loss = 0.00992, metric = 0.00954\n",
      "Step 180: loss = 0.00992, metric = 0.00951\n",
      "Step 181: loss = 0.00992, metric = 0.00949\n",
      "Step 182: loss = 0.00992, metric = 0.00948\n",
      "Step 183: loss = 0.00992, metric = 0.00946\n",
      "Step 184: loss = 0.00992, metric = 0.00947\n",
      "Step 185: loss = 0.00992, metric = 0.00951\n",
      "Step 186: loss = 0.00991, metric = 0.00956\n",
      "Step 187: loss = 0.00992, metric = 0.00958\n",
      "Step 188: loss = 0.00991, metric = 0.00955\n",
      "Step 189: loss = 0.00991, metric = 0.00949\n",
      "Step 190: loss = 0.00991, metric = 0.00946\n",
      "Step 191: loss = 0.00991, metric = 0.00945\n",
      "Step 192: loss = 0.00991, metric = 0.00945\n",
      "Step 193: loss = 0.0099, metric = 0.00946\n",
      "Step 194: loss = 0.0099, metric = 0.00949\n",
      "Step 195: loss = 0.0099, metric = 0.00949\n",
      "Step 196: loss = 0.0099, metric = 0.00946\n",
      "Step 197: loss = 0.0099, metric = 0.00941\n",
      "Step 198: loss = 0.0099, metric = 0.00939\n",
      "Step 199: loss = 0.0099, metric = 0.00938\n"
     ]
    }
   ],
   "source": [
    "# Entraînement du modèle\n",
    "ffr = FeedForwardRegressor(1, [30, 30])\n",
    "optimizer = torch.optim.Adam(ffr.parameters(), lr=1.0E-3)\n",
    "train_loop(ffr, optimizer, (x_train, y_train), (x_val, y_val), F.mse_loss, n_steps=200, patience=100)"
   ]
  },
  {
   "cell_type": "code",
   "execution_count": 47,
   "metadata": {},
   "outputs": [
    {
     "data": {
      "text/plain": [
       "<matplotlib.legend.Legend at 0x289a8263d00>"
      ]
     },
     "execution_count": 47,
     "metadata": {},
     "output_type": "execute_result"
    },
    {
     "data": {
      "image/png": "[encoded data removed]",
      "text/plain": [
       "<Figure size 432x288 with 1 Axes>"
      ]
     },
     "metadata": {
      "needs_background": "light"
     },
     "output_type": "display_data"
    }
   ],
   "source": [
    "x_test = torch.linspace(-1, 1, 1000)\n",
    "y_target = x_test**2\n",
    "y_pred = ffr(x_test.unsqueeze(-1)).squeeze(-1)\n",
    "plt.plot(x_test.tolist(), y_target.tolist(), color=\"k\", label=\"target\")\n",
    "plt.plot(x_test.tolist(), y_pred.tolist(), color=\"r\", label=\"prediction\")\n",
    "plt.legend()"
   ]
  },
  {
   "cell_type": "markdown",
   "metadata": {},
   "source": [
    "## Exercice III\n",
    "\n",
    "Définir et entraîner un modèle de classification binaire"
   ]
  },
  {
   "cell_type": "code",
   "execution_count": 60,
   "metadata": {},
   "outputs": [],
   "source": [
    "def y(x: torch.Tensor) -> torch.Tensor:\n",
    "    \"\"\"\n",
    "    returns the binary classification of the given (x1, x2) points\n",
    "\n",
    "    Parameters\n",
    "    ----------\n",
    "    x : torch.Tensor\n",
    "        tensor of shape (n, 2) of floats in [-1, 1]\n",
    "\n",
    "    Returns\n",
    "    -------\n",
    "    torch.Tensor\n",
    "        tensor of shape (n, 1) of type long, of values in {0, 1}\n",
    "    \"\"\"\n",
    "    L = 0.8\n",
    "    return (((x[:, 0] + x[:, 1]) % L) > L/2).float().unsqueeze(-1)\n",
    "\n",
    "\n",
    "def generate_data(n: int) -> tuple[torch.Tensor]:\n",
    "    \"\"\"\n",
    "    generate an (x, y) tuple of tensors of n random observations\n",
    "    \"\"\"\n",
    "    x = torch.rand(n, 2) * 2 - 1\n",
    "    y_ = y(x)\n",
    "    return x, torch.where(torch.rand(n, 1) < 0.05, 1-y_, y_)"
   ]
  },
  {
   "cell_type": "code",
   "execution_count": 61,
   "metadata": {},
   "outputs": [],
   "source": [
    "x_train, y_train = generate_data(800)\n",
    "x_val, y_val = generate_data(200)"
   ]
  },
  {
   "cell_type": "code",
   "execution_count": 63,
   "metadata": {},
   "outputs": [
    {
     "data": {
      "text/plain": [
       "<matplotlib.legend.Legend at 0x289cd7de9a0>"
      ]
     },
     "execution_count": 63,
     "metadata": {},
     "output_type": "execute_result"
    },
    {
     "data": {
      "image/png": "[encoded data removed]",
      "text/plain": [
       "<Figure size 432x288 with 1 Axes>"
      ]
     },
     "metadata": {
      "needs_background": "light"
     },
     "output_type": "display_data"
    }
   ],
   "source": [
    "image = y(torch.stack(torch.meshgrid([torch.linspace(-1., 1., 500)]*2, indexing=\"ij\"), dim=-1).reshape(-1, 2)).reshape(500, 500)\n",
    "plt.imshow(image, extent=(-1, 1, -1, 1), origin=\"lower\", cmap=\"Greys\", vmin=0, vmax=1)\n",
    "plt.scatter(x_train[:, 0], x_train[:, 1], c=[f\"C{c.item()}\" for c in y_train.int()], marker=\".\", label=\"train\")\n",
    "plt.scatter(x_val[:, 0], x_val[:, 1], c=[f\"C{c.item()}\" for c in y_val.int()], marker=\"+\", label=\"validation\")\n",
    "plt.legend()"
   ]
  },
  {
   "cell_type": "code",
   "execution_count": null,
   "metadata": {},
   "outputs": [],
   "source": [
    "class FeedForwardClassifier(torch.nn.Module):\n",
    "    \"\"\"\n",
    "    Un objet 'FeedForwardRegressor' est un modèle feed forward pour la classification binaire\n",
    "    \"\"\"\n",
    "\n",
    "    def __init__(self, in_features: int, hidden_layers: list[int], activation: Callable = F.relu, dropout: float = 0., with_batch_norm: bool = True):\n",
    "        super().__init__()\n",
    "        self.layers = torch.nn.ModuleList()\n",
    "        for out_features in hidden_layers:\n",
    "            self.layers.append(Layer(in_features, out_features, activation, dropout, with_batch_norm))\n",
    "            in_features = out_features\n",
    "        self.output_projection = torch.nn.Linear(out_features, 1)\n",
    "\n",
    "    def forward(self, X: torch.Tensor) -> torch.Tensor:\n",
    "        for layer in self.layers:\n",
    "            X = layer(X)\n",
    "        return torch.sigmoid(self.output_projection(X))"
   ]
  },
  {
   "cell_type": "code",
   "execution_count": null,
   "metadata": {},
   "outputs": [],
   "source": [
    "ffc = FeedForwardClassifier(2, [30, 30, 30, 30])\n",
    "optimizer = torch.optim.Adam(ffc.parameters(), lr=1.0E-3)\n",
    "train_loop(ffc, optimizer, (x_train, y_train), (x_val, y_val), F.binary_cross_entropy, n_steps=1000, patience=100)"
   ]
  },
  {
   "cell_type": "code",
   "execution_count": null,
   "metadata": {},
   "outputs": [],
   "source": [
    "with torch.no_grad():\n",
    "    image = ffc(torch.stack(torch.meshgrid([torch.linspace(-1., 1., 500)]*2, indexing=\"ij\"), dim=-1).reshape(-1, 2)).reshape(500, 500)"
   ]
  },
  {
   "cell_type": "code",
   "execution_count": null,
   "metadata": {},
   "outputs": [],
   "source": [
    "plt.imshow(image.numpy(), origin=\"lower\", cmap=\"Greys\")"
   ]
  },
  {
   "cell_type": "markdown",
   "metadata": {},
   "source": [
    "## Exercice IV\n",
    "\n",
    "Définir et entraîner sur le dataset parcoursup-2021 un modèle qui prédit avec intervale de confiance le taux d'admission de chaque formation\n",
    "\n"
   ]
  },
  {
   "cell_type": "code",
   "execution_count": null,
   "metadata": {},
   "outputs": [],
   "source": [
    "df = pd.read_csv(\"../datasets/train.csv\")\n",
    "df_train = df.sample(frac=0.8)\n",
    "df_val = df.drop(df_train.index)\n",
    "df_test = pd.read_csv(\"../datasets/test.csv\")\n",
    "df_eval = pd.read_csv(\"../datasets/eval_public.csv\")\n",
    "df_eval = pd.read_csv(\"../datasets/eval.csv\")\n",
    "\n",
    "all_inputs = ['type_contrat', 'formation_selective',\n",
    "              'concour', 'nombre_candidats', 'taux_femmes',\n",
    "              'taux_boursiers', 'taux_meme_academie', 'taux_meme_etablissement',\n",
    "              'taux_bac_technologique', 'taux_bac_pro', 'taux_mention_assez_bien',\n",
    "              'taux_mention_bien', 'taux_mention_tres_bien',\n",
    "              'taux_mention_tres_bien_felicitations']\n",
    "target = 'taux_admission'"
   ]
  },
  {
   "cell_type": "code",
   "execution_count": null,
   "metadata": {},
   "outputs": [],
   "source": [
    "class GaussianRegressor(torch.nn.Module):\n",
    "    \"\"\"\n",
    "    Un régresseur gaussien doit renvoyer un tuple de tenseurs (mu, sigma)\n",
    "    avec mu la moyenne prédite pour chaque observation,\n",
    "    et sigma l'écart type de l'erreur pour chaque observation.\n",
    "    \"\"\"\n",
    "\n",
    "    def __init__(self, in_features: int, hidden_features: list[int], activation: Callable = F.relu, dropout: float = 0., with_batch_norm: bool = True):\n",
    "        super().__init__()\n",
    "        self.hidden_layers = torch.nn.ModuleList()\n",
    "        for out_features in hidden_features:\n",
    "            self.hidden_layers.append(Layer(in_features, out_features, activation, dropout, with_batch_norm=with_batch_norm))\n",
    "            in_features = out_features\n",
    "        self.output_projection = torch.nn.Linear(in_features, 2)\n",
    "    \n",
    "    def forward(self, X: torch.Tensor) -> torch.Tensor:\n",
    "        \"\"\"\n",
    "        Parameters\n",
    "        ----------\n",
    "        X : torch.Tensor\n",
    "            tensor of shape (N, 14)\n",
    "        \n",
    "        Returns\n",
    "        -------\n",
    "        tuple of torch.Tensor :\n",
    "            returns a tuple of (mu, sigma) tensors of shape (N,)\n",
    "        \"\"\"\n",
    "        for layer in self.hidden_layers:\n",
    "            X = layer(X)\n",
    "        X = self.output_projection(X)\n",
    "        mu, sigma = X[..., 0], X[..., 1]\n",
    "        return torch.sigmoid(mu), torch.exp(sigma)"
   ]
  },
  {
   "cell_type": "code",
   "execution_count": null,
   "metadata": {},
   "outputs": [],
   "source": [
    "def dataframe_to_x(df: pd.DataFrame, inputs: list[str]) -> torch.Tensor:\n",
    "    \"\"\"\n",
    "    converts a dataframe to a tensor of inputs 'x'\n",
    "\n",
    "    Parameters\n",
    "    ----------\n",
    "    df : pd.DataFrame\n",
    "        data to convert to input tensor\n",
    "    inputs : list of str\n",
    "        list of columns to use (in order)\n",
    "    \n",
    "    Returns\n",
    "    -------\n",
    "    torch.Tensor :\n",
    "        tensor of floats of shape (N, C)\n",
    "    \"\"\"\n",
    "    df = df[inputs].copy()\n",
    "    if \"nombre_candidats\" in df.columns:\n",
    "        df[\"nombre_candidats\"] = df[\"nombre_candidats\"]/1413\n",
    "    if \"type_contrat\" in df.columns:\n",
    "        df[\"type_contrat\"] = [0 if tc.startswith(\"Public\") else 1 for tc in df[\"type_contrat\"]]\n",
    "    return torch.tensor(df.astype(float).to_numpy(), dtype=torch.float32)\n",
    "\n",
    "\n",
    "def dataframe_to_y(df: pd.DataFrame) -> torch.Tensor:\n",
    "    \"\"\"\n",
    "    converts a dataframe to a tensor of target 'y'\n",
    "\n",
    "    Parameters\n",
    "    ----------\n",
    "    df : pd.DataFrame\n",
    "        data to convert to target tensor\n",
    "\n",
    "    Returns\n",
    "    -------\n",
    "    torch.Tensor :\n",
    "        tensor of floats of shape (N, C)\n",
    "    \"\"\"\n",
    "    return torch.tensor(df['taux_admission'].astype(float).to_numpy(), dtype=torch.float32)\n",
    "\n",
    "\n",
    "def predict(model: torch.nn.Module, df: pd.DataFrame, inputs: list[str]) -> torch.Tensor:\n",
    "    \"\"\"\n",
    "    performs a prediction of the model in evaluation mode\n",
    "    and returns the (mu, sigma) tuple\n",
    "    \"\"\"\n",
    "    x = dataframe_to_x(df, inputs=inputs)\n",
    "    model.eval()\n",
    "    with torch.no_grad():\n",
    "        mu, sigma = model(x)\n",
    "    return pd.DataFrame.from_dict({\"mu\": mu.tolist(), \"sigma\": sigma.tolist()})\n",
    "\n",
    "\n",
    "def mean_negative_log_likelyhood(y_pred: tuple[torch.Tensor], y_target: torch.Tensor) -> torch.Tensor:\n",
    "    \"\"\"\n",
    "    returns the mean negative log likelyhood of the model, to be used as a loss\n",
    "    \"\"\"\n",
    "    mu, sigma = y_pred\n",
    "    if (sigma <= 0).any():\n",
    "        warn(\"All values of sigma are expected to be strictly positives but found some negative or null\")\n",
    "    log_likelyhood = -0.5*(((y_target-mu)/sigma)**2) - torch.log(sigma * (2*torch.pi)**0.5)\n",
    "    return torch.mean(-log_likelyhood)\n",
    "\n",
    "\n",
    "def note(prediction: pd.DataFrame, df_test: pd.DataFrame) -> float:\n",
    "    \"\"\"\n",
    "    Grades the student on the evaluation set (between 0. and 20.)\n",
    "    \"\"\"\n",
    "    mu, sigma = torch.tensor(prediction.mu, dtype=torch.float), torch.tensor(prediction.sigma, dtype=torch.float)\n",
    "    with torch.no_grad():\n",
    "        mnll = mean_negative_log_likelyhood((mu, sigma), dataframe_to_y(df_test))\n",
    "    frac = torch.sigmoid(-mnll*2).item()\n",
    "    return round(frac * 20, 1)\n",
    "\n",
    "\n",
    "def visualize(model: torch.nn.Module, df_test: pd.DataFrame, inputs: list[str]):\n",
    "    \"\"\"\n",
    "    Plots the performance of the model\n",
    "    \"\"\"\n",
    "    y = dataframe_to_y(df_test)\n",
    "    res = predict(model, df_test, inputs)\n",
    "    plt.axline((0., 0.), slope=1, color=\"k\", zorder=0)\n",
    "    h = plt.scatter(res.mu, y, c=res.sigma, cmap=\"inferno\", s=10, zorder=1)\n",
    "    plt.colorbar(h)\n",
    "    plt.xlabel(\"target\")\n",
    "    plt.ylabel(\"predicted\")"
   ]
  },
  {
   "cell_type": "code",
   "execution_count": null,
   "metadata": {},
   "outputs": [],
   "source": [
    "inputs =  all_inputs\n",
    "train = (dataframe_to_x(df_train, inputs), dataframe_to_y(df_train))\n",
    "val = (dataframe_to_x(df_val, inputs), dataframe_to_y(df_val))\n",
    "gr = GaussianRegressor(len(inputs), [30, 30], activation=F.leaky_relu, dropout=0.)\n",
    "optimizer = torch.optim.Adam(gr.parameters(), lr=1.0E-3)\n",
    "train_loop(gr, optimizer, train, val, mean_negative_log_likelyhood, n_steps=1000, patience=100)"
   ]
  },
  {
   "cell_type": "code",
   "execution_count": null,
   "metadata": {},
   "outputs": [],
   "source": [
    "note(predict(gr, df_test, inputs), df_test)"
   ]
  },
  {
   "cell_type": "code",
   "execution_count": null,
   "metadata": {},
   "outputs": [],
   "source": [
    "visualize(gr, df_test, inputs)"
   ]
  },
  {
   "cell_type": "code",
   "execution_count": null,
   "metadata": {},
   "outputs": [],
   "source": [
    "predict(gr, df_eval, inputs).to_csv(\"prediction.csv\", index=False)"
   ]
  },
  {
   "cell_type": "code",
   "execution_count": null,
   "metadata": {},
   "outputs": [],
   "source": [
    "note(predict(gr, df_eval, inputs), df_eval)"
   ]
  },
  {
   "cell_type": "code",
   "execution_count": null,
   "metadata": {},
   "outputs": [],
   "source": []
  }
 ],
 "metadata": {
  "kernelspec": {
   "display_name": "Python 3.9.12 ('base')",
   "language": "python",
   "name": "python3"
  },
  "language_info": {
   "codemirror_mode": {
    "name": "ipython",
    "version": 3
   },
   "file_extension": ".py",
   "mimetype": "text/x-python",
   "name": "python",
   "nbconvert_exporter": "python",
   "pygments_lexer": "ipython3",
   "version": "3.9.12"
  },
  "orig_nbformat": 4,
  "vscode": {
   "interpreter": {
    "hash": "c2017a09ab1f54c7a6a1af190715fd60264df4a93389a277e03c18d947a6e489"
   }
  }
 },
 "nbformat": 4,
 "nbformat_minor": 2
}
